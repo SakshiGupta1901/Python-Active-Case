{
 "cells": [
  {
   "cell_type": "code",
   "execution_count": 5,
   "id": "084a7b7e",
   "metadata": {},
   "outputs": [],
   "source": [
    "import numpy as np #Linear Algebra\n",
    "import pandas as pd #data Processing, Csv file I/o (e.g pd.read_csv)\n",
    "import seaborn as sns\n",
    "import matplotlib.pyplot as plt\n",
    "import warnings\n",
    "warnings.filterwarnings(\"ignore\", category=FutureWarning)"
   ]
  },
  {
   "cell_type": "code",
   "execution_count": 6,
   "id": "8a078fcb",
   "metadata": {},
   "outputs": [],
   "source": [
    "df = pd.read_csv(\"Data_Science.csv\")"
   ]
  },
  {
   "cell_type": "code",
   "execution_count": 4,
   "id": "f1dcfde4",
   "metadata": {},
   "outputs": [
    {
     "data": {
      "text/html": [
       "<div>\n",
       "<style scoped>\n",
       "    .dataframe tbody tr th:only-of-type {\n",
       "        vertical-align: middle;\n",
       "    }\n",
       "\n",
       "    .dataframe tbody tr th {\n",
       "        vertical-align: top;\n",
       "    }\n",
       "\n",
       "    .dataframe thead th {\n",
       "        text-align: right;\n",
       "    }\n",
       "</style>\n",
       "<table border=\"1\" class=\"dataframe\">\n",
       "  <thead>\n",
       "    <tr style=\"text-align: right;\">\n",
       "      <th></th>\n",
       "      <th>id</th>\n",
       "      <th>work_year</th>\n",
       "      <th>experience_level</th>\n",
       "      <th>employment_type</th>\n",
       "      <th>job_title</th>\n",
       "      <th>salary</th>\n",
       "      <th>salary_currency</th>\n",
       "      <th>salary_in_usd</th>\n",
       "      <th>employee_residence</th>\n",
       "      <th>remote_ratio</th>\n",
       "      <th>company_location</th>\n",
       "      <th>company_size</th>\n",
       "    </tr>\n",
       "  </thead>\n",
       "  <tbody>\n",
       "    <tr>\n",
       "      <th>0</th>\n",
       "      <td>0</td>\n",
       "      <td>2020</td>\n",
       "      <td>MI</td>\n",
       "      <td>FT</td>\n",
       "      <td>Data Scientist</td>\n",
       "      <td>70000</td>\n",
       "      <td>EUR</td>\n",
       "      <td>79833</td>\n",
       "      <td>DE</td>\n",
       "      <td>0</td>\n",
       "      <td>DE</td>\n",
       "      <td>L</td>\n",
       "    </tr>\n",
       "    <tr>\n",
       "      <th>1</th>\n",
       "      <td>1</td>\n",
       "      <td>2020</td>\n",
       "      <td>SE</td>\n",
       "      <td>FT</td>\n",
       "      <td>Machine Learning Scientist</td>\n",
       "      <td>260000</td>\n",
       "      <td>USD</td>\n",
       "      <td>260000</td>\n",
       "      <td>JP</td>\n",
       "      <td>0</td>\n",
       "      <td>JP</td>\n",
       "      <td>S</td>\n",
       "    </tr>\n",
       "    <tr>\n",
       "      <th>2</th>\n",
       "      <td>2</td>\n",
       "      <td>2020</td>\n",
       "      <td>SE</td>\n",
       "      <td>FT</td>\n",
       "      <td>Big Data Engineer</td>\n",
       "      <td>85000</td>\n",
       "      <td>GBP</td>\n",
       "      <td>109024</td>\n",
       "      <td>GB</td>\n",
       "      <td>50</td>\n",
       "      <td>GB</td>\n",
       "      <td>M</td>\n",
       "    </tr>\n",
       "    <tr>\n",
       "      <th>3</th>\n",
       "      <td>3</td>\n",
       "      <td>2020</td>\n",
       "      <td>MI</td>\n",
       "      <td>FT</td>\n",
       "      <td>Product Data Analyst</td>\n",
       "      <td>20000</td>\n",
       "      <td>USD</td>\n",
       "      <td>20000</td>\n",
       "      <td>HN</td>\n",
       "      <td>0</td>\n",
       "      <td>HN</td>\n",
       "      <td>S</td>\n",
       "    </tr>\n",
       "    <tr>\n",
       "      <th>4</th>\n",
       "      <td>4</td>\n",
       "      <td>2020</td>\n",
       "      <td>SE</td>\n",
       "      <td>FT</td>\n",
       "      <td>Machine Learning Engineer</td>\n",
       "      <td>150000</td>\n",
       "      <td>USD</td>\n",
       "      <td>150000</td>\n",
       "      <td>US</td>\n",
       "      <td>50</td>\n",
       "      <td>US</td>\n",
       "      <td>L</td>\n",
       "    </tr>\n",
       "  </tbody>\n",
       "</table>\n",
       "</div>"
      ],
      "text/plain": [
       "   id  work_year experience_level employment_type                   job_title  \\\n",
       "0   0       2020               MI              FT              Data Scientist   \n",
       "1   1       2020               SE              FT  Machine Learning Scientist   \n",
       "2   2       2020               SE              FT           Big Data Engineer   \n",
       "3   3       2020               MI              FT        Product Data Analyst   \n",
       "4   4       2020               SE              FT   Machine Learning Engineer   \n",
       "\n",
       "   salary salary_currency  salary_in_usd employee_residence  remote_ratio  \\\n",
       "0   70000             EUR          79833                 DE             0   \n",
       "1  260000             USD         260000                 JP             0   \n",
       "2   85000             GBP         109024                 GB            50   \n",
       "3   20000             USD          20000                 HN             0   \n",
       "4  150000             USD         150000                 US            50   \n",
       "\n",
       "  company_location company_size  \n",
       "0               DE            L  \n",
       "1               JP            S  \n",
       "2               GB            M  \n",
       "3               HN            S  \n",
       "4               US            L  "
      ]
     },
     "execution_count": 4,
     "metadata": {},
     "output_type": "execute_result"
    }
   ],
   "source": [
    "df.head()"
   ]
  },
  {
   "cell_type": "code",
   "execution_count": 5,
   "id": "57b7d9a6",
   "metadata": {},
   "outputs": [
    {
     "data": {
      "text/plain": [
       "Index(['id', 'work_year', 'experience_level', 'employment_type', 'job_title',\n",
       "       'salary', 'salary_currency', 'salary_in_usd', 'employee_residence',\n",
       "       'remote_ratio', 'company_location', 'company_size'],\n",
       "      dtype='object')"
      ]
     },
     "execution_count": 5,
     "metadata": {},
     "output_type": "execute_result"
    }
   ],
   "source": [
    "df.columns"
   ]
  },
  {
   "cell_type": "code",
   "execution_count": null,
   "id": "aeacf51c",
   "metadata": {},
   "outputs": [],
   "source": [
    "## pip install dataset --> anaconda prompt\n",
    "## from pydataset import data  --> jyupter\n",
    "## data()  --> dont use default dataser\n",
    "## data('iris')"
   ]
  },
  {
   "cell_type": "code",
   "execution_count": 7,
   "id": "9c6b2a2b",
   "metadata": {},
   "outputs": [
    {
     "data": {
      "text/html": [
       "<div>\n",
       "<style scoped>\n",
       "    .dataframe tbody tr th:only-of-type {\n",
       "        vertical-align: middle;\n",
       "    }\n",
       "\n",
       "    .dataframe tbody tr th {\n",
       "        vertical-align: top;\n",
       "    }\n",
       "\n",
       "    .dataframe thead th {\n",
       "        text-align: right;\n",
       "    }\n",
       "</style>\n",
       "<table border=\"1\" class=\"dataframe\">\n",
       "  <thead>\n",
       "    <tr style=\"text-align: right;\">\n",
       "      <th></th>\n",
       "      <th>id</th>\n",
       "      <th>work_year</th>\n",
       "      <th>experience_level</th>\n",
       "      <th>employment_type</th>\n",
       "      <th>job_title</th>\n",
       "      <th>salary</th>\n",
       "      <th>salary_currency</th>\n",
       "      <th>salary_in_usd</th>\n",
       "      <th>employee_residence</th>\n",
       "      <th>remote_ratio</th>\n",
       "      <th>company_location</th>\n",
       "      <th>company_size</th>\n",
       "    </tr>\n",
       "  </thead>\n",
       "  <tbody>\n",
       "    <tr>\n",
       "      <th>0</th>\n",
       "      <td>0</td>\n",
       "      <td>2020</td>\n",
       "      <td>MI</td>\n",
       "      <td>FT</td>\n",
       "      <td>Data Scientist</td>\n",
       "      <td>70000</td>\n",
       "      <td>EUR</td>\n",
       "      <td>79833</td>\n",
       "      <td>DE</td>\n",
       "      <td>0</td>\n",
       "      <td>DE</td>\n",
       "      <td>L</td>\n",
       "    </tr>\n",
       "    <tr>\n",
       "      <th>1</th>\n",
       "      <td>1</td>\n",
       "      <td>2020</td>\n",
       "      <td>SE</td>\n",
       "      <td>FT</td>\n",
       "      <td>Machine Learning Scientist</td>\n",
       "      <td>260000</td>\n",
       "      <td>USD</td>\n",
       "      <td>260000</td>\n",
       "      <td>JP</td>\n",
       "      <td>0</td>\n",
       "      <td>JP</td>\n",
       "      <td>S</td>\n",
       "    </tr>\n",
       "    <tr>\n",
       "      <th>2</th>\n",
       "      <td>2</td>\n",
       "      <td>2020</td>\n",
       "      <td>SE</td>\n",
       "      <td>FT</td>\n",
       "      <td>Big Data Engineer</td>\n",
       "      <td>85000</td>\n",
       "      <td>GBP</td>\n",
       "      <td>109024</td>\n",
       "      <td>GB</td>\n",
       "      <td>50</td>\n",
       "      <td>GB</td>\n",
       "      <td>M</td>\n",
       "    </tr>\n",
       "    <tr>\n",
       "      <th>3</th>\n",
       "      <td>3</td>\n",
       "      <td>2020</td>\n",
       "      <td>MI</td>\n",
       "      <td>FT</td>\n",
       "      <td>Product Data Analyst</td>\n",
       "      <td>20000</td>\n",
       "      <td>USD</td>\n",
       "      <td>20000</td>\n",
       "      <td>HN</td>\n",
       "      <td>0</td>\n",
       "      <td>HN</td>\n",
       "      <td>S</td>\n",
       "    </tr>\n",
       "    <tr>\n",
       "      <th>4</th>\n",
       "      <td>4</td>\n",
       "      <td>2020</td>\n",
       "      <td>SE</td>\n",
       "      <td>FT</td>\n",
       "      <td>Machine Learning Engineer</td>\n",
       "      <td>150000</td>\n",
       "      <td>USD</td>\n",
       "      <td>150000</td>\n",
       "      <td>US</td>\n",
       "      <td>50</td>\n",
       "      <td>US</td>\n",
       "      <td>L</td>\n",
       "    </tr>\n",
       "    <tr>\n",
       "      <th>...</th>\n",
       "      <td>...</td>\n",
       "      <td>...</td>\n",
       "      <td>...</td>\n",
       "      <td>...</td>\n",
       "      <td>...</td>\n",
       "      <td>...</td>\n",
       "      <td>...</td>\n",
       "      <td>...</td>\n",
       "      <td>...</td>\n",
       "      <td>...</td>\n",
       "      <td>...</td>\n",
       "      <td>...</td>\n",
       "    </tr>\n",
       "    <tr>\n",
       "      <th>602</th>\n",
       "      <td>602</td>\n",
       "      <td>2022</td>\n",
       "      <td>SE</td>\n",
       "      <td>FT</td>\n",
       "      <td>Data Engineer</td>\n",
       "      <td>154000</td>\n",
       "      <td>USD</td>\n",
       "      <td>154000</td>\n",
       "      <td>US</td>\n",
       "      <td>100</td>\n",
       "      <td>US</td>\n",
       "      <td>M</td>\n",
       "    </tr>\n",
       "    <tr>\n",
       "      <th>603</th>\n",
       "      <td>603</td>\n",
       "      <td>2022</td>\n",
       "      <td>SE</td>\n",
       "      <td>FT</td>\n",
       "      <td>Data Engineer</td>\n",
       "      <td>126000</td>\n",
       "      <td>USD</td>\n",
       "      <td>126000</td>\n",
       "      <td>US</td>\n",
       "      <td>100</td>\n",
       "      <td>US</td>\n",
       "      <td>M</td>\n",
       "    </tr>\n",
       "    <tr>\n",
       "      <th>604</th>\n",
       "      <td>604</td>\n",
       "      <td>2022</td>\n",
       "      <td>SE</td>\n",
       "      <td>FT</td>\n",
       "      <td>Data Analyst</td>\n",
       "      <td>129000</td>\n",
       "      <td>USD</td>\n",
       "      <td>129000</td>\n",
       "      <td>US</td>\n",
       "      <td>0</td>\n",
       "      <td>US</td>\n",
       "      <td>M</td>\n",
       "    </tr>\n",
       "    <tr>\n",
       "      <th>605</th>\n",
       "      <td>605</td>\n",
       "      <td>2022</td>\n",
       "      <td>SE</td>\n",
       "      <td>FT</td>\n",
       "      <td>Data Analyst</td>\n",
       "      <td>150000</td>\n",
       "      <td>USD</td>\n",
       "      <td>150000</td>\n",
       "      <td>US</td>\n",
       "      <td>100</td>\n",
       "      <td>US</td>\n",
       "      <td>M</td>\n",
       "    </tr>\n",
       "    <tr>\n",
       "      <th>606</th>\n",
       "      <td>606</td>\n",
       "      <td>2022</td>\n",
       "      <td>MI</td>\n",
       "      <td>FT</td>\n",
       "      <td>AI Scientist</td>\n",
       "      <td>200000</td>\n",
       "      <td>USD</td>\n",
       "      <td>200000</td>\n",
       "      <td>IN</td>\n",
       "      <td>100</td>\n",
       "      <td>US</td>\n",
       "      <td>L</td>\n",
       "    </tr>\n",
       "  </tbody>\n",
       "</table>\n",
       "<p>607 rows × 12 columns</p>\n",
       "</div>"
      ],
      "text/plain": [
       "      id  work_year experience_level employment_type  \\\n",
       "0      0       2020               MI              FT   \n",
       "1      1       2020               SE              FT   \n",
       "2      2       2020               SE              FT   \n",
       "3      3       2020               MI              FT   \n",
       "4      4       2020               SE              FT   \n",
       "..   ...        ...              ...             ...   \n",
       "602  602       2022               SE              FT   \n",
       "603  603       2022               SE              FT   \n",
       "604  604       2022               SE              FT   \n",
       "605  605       2022               SE              FT   \n",
       "606  606       2022               MI              FT   \n",
       "\n",
       "                      job_title  salary salary_currency  salary_in_usd  \\\n",
       "0                Data Scientist   70000             EUR          79833   \n",
       "1    Machine Learning Scientist  260000             USD         260000   \n",
       "2             Big Data Engineer   85000             GBP         109024   \n",
       "3          Product Data Analyst   20000             USD          20000   \n",
       "4     Machine Learning Engineer  150000             USD         150000   \n",
       "..                          ...     ...             ...            ...   \n",
       "602               Data Engineer  154000             USD         154000   \n",
       "603               Data Engineer  126000             USD         126000   \n",
       "604                Data Analyst  129000             USD         129000   \n",
       "605                Data Analyst  150000             USD         150000   \n",
       "606                AI Scientist  200000             USD         200000   \n",
       "\n",
       "    employee_residence  remote_ratio company_location company_size  \n",
       "0                   DE             0               DE            L  \n",
       "1                   JP             0               JP            S  \n",
       "2                   GB            50               GB            M  \n",
       "3                   HN             0               HN            S  \n",
       "4                   US            50               US            L  \n",
       "..                 ...           ...              ...          ...  \n",
       "602                 US           100               US            M  \n",
       "603                 US           100               US            M  \n",
       "604                 US             0               US            M  \n",
       "605                 US           100               US            M  \n",
       "606                 IN           100               US            L  \n",
       "\n",
       "[607 rows x 12 columns]"
      ]
     },
     "execution_count": 7,
     "metadata": {},
     "output_type": "execute_result"
    }
   ],
   "source": [
    "df"
   ]
  },
  {
   "cell_type": "code",
   "execution_count": 10,
   "id": "e7f448ab",
   "metadata": {},
   "outputs": [
    {
     "name": "stdout",
     "output_type": "stream",
     "text": [
      "<class 'pandas.core.frame.DataFrame'>\n",
      "RangeIndex: 607 entries, 0 to 606\n",
      "Data columns (total 12 columns):\n",
      " #   Column              Non-Null Count  Dtype \n",
      "---  ------              --------------  ----- \n",
      " 0   id                  607 non-null    int64 \n",
      " 1   work_year           607 non-null    int64 \n",
      " 2   experience_level    607 non-null    object\n",
      " 3   employment_type     607 non-null    object\n",
      " 4   job_title           607 non-null    object\n",
      " 5   salary              607 non-null    int64 \n",
      " 6   salary_currency     607 non-null    object\n",
      " 7   salary_in_usd       607 non-null    int64 \n",
      " 8   employee_residence  607 non-null    object\n",
      " 9   remote_ratio        607 non-null    int64 \n",
      " 10  company_location    607 non-null    object\n",
      " 11  company_size        607 non-null    object\n",
      "dtypes: int64(5), object(7)\n",
      "memory usage: 57.0+ KB\n"
     ]
    }
   ],
   "source": [
    "df.info()"
   ]
  },
  {
   "cell_type": "code",
   "execution_count": 6,
   "id": "5e9718fa",
   "metadata": {},
   "outputs": [],
   "source": [
    "df1=df"
   ]
  },
  {
   "cell_type": "code",
   "execution_count": 9,
   "id": "78a46f2d",
   "metadata": {},
   "outputs": [
    {
     "data": {
      "text/plain": [
       "employee_residence\n",
       "AE    100000.000000\n",
       "AR     60000.000000\n",
       "AT     76738.666667\n",
       "AU    108042.666667\n",
       "BE     85699.000000\n",
       "BG     80000.000000\n",
       "BO     75000.000000\n",
       "BR     54634.666667\n",
       "CA     97085.310345\n",
       "CH    122346.000000\n",
       "CL     40038.000000\n",
       "CN     43331.000000\n",
       "CO     21844.000000\n",
       "CZ     69999.000000\n",
       "DE     85552.560000\n",
       "DK     37252.500000\n",
       "DZ    100000.000000\n",
       "EE     32974.000000\n",
       "ES     57593.400000\n",
       "FR     59886.611111\n",
       "GB     81403.159091\n",
       "GR     56331.230769\n",
       "HK     66022.000000\n",
       "HN     20000.000000\n",
       "HR     45618.000000\n",
       "HU     35997.000000\n",
       "IE     71444.000000\n",
       "IN     37322.333333\n",
       "IQ    100000.000000\n",
       "IR      4000.000000\n",
       "IT     61600.000000\n",
       "JE    100000.000000\n",
       "JP    103537.714286\n",
       "KE      9272.000000\n",
       "LU     59102.000000\n",
       "MD     18000.000000\n",
       "MT     28369.000000\n",
       "MX     18185.000000\n",
       "MY    200000.000000\n",
       "NG     30000.000000\n",
       "NL     60956.600000\n",
       "NZ    125000.000000\n",
       "PH     45760.000000\n",
       "PK     27462.833333\n",
       "PL     56177.500000\n",
       "PR    160000.000000\n",
       "PT     42862.500000\n",
       "RO     51419.000000\n",
       "RS     25532.000000\n",
       "RU    105750.000000\n",
       "SG    104176.500000\n",
       "SI     63831.000000\n",
       "TN     31875.000000\n",
       "TR     20096.666667\n",
       "UA     13400.000000\n",
       "US    149194.117470\n",
       "VN     30800.000000\n",
       "Name: salary_in_usd, dtype: float64"
      ]
     },
     "execution_count": 9,
     "metadata": {},
     "output_type": "execute_result"
    }
   ],
   "source": [
    "df1.groupby('employee_residence').mean()[\"salary_in_usd\"]"
   ]
  },
  {
   "cell_type": "code",
   "execution_count": 11,
   "id": "a1a62b4c",
   "metadata": {},
   "outputs": [
    {
     "data": {
      "text/plain": [
       "employee_residence\n",
       "MY    200000.000000\n",
       "PR    160000.000000\n",
       "US    149194.117470\n",
       "NZ    125000.000000\n",
       "CH    122346.000000\n",
       "AU    108042.666667\n",
       "RU    105750.000000\n",
       "SG    104176.500000\n",
       "JP    103537.714286\n",
       "AE    100000.000000\n",
       "DZ    100000.000000\n",
       "JE    100000.000000\n",
       "IQ    100000.000000\n",
       "CA     97085.310345\n",
       "BE     85699.000000\n",
       "DE     85552.560000\n",
       "GB     81403.159091\n",
       "BG     80000.000000\n",
       "AT     76738.666667\n",
       "BO     75000.000000\n",
       "IE     71444.000000\n",
       "CZ     69999.000000\n",
       "HK     66022.000000\n",
       "SI     63831.000000\n",
       "IT     61600.000000\n",
       "NL     60956.600000\n",
       "AR     60000.000000\n",
       "FR     59886.611111\n",
       "LU     59102.000000\n",
       "ES     57593.400000\n",
       "GR     56331.230769\n",
       "PL     56177.500000\n",
       "BR     54634.666667\n",
       "RO     51419.000000\n",
       "PH     45760.000000\n",
       "HR     45618.000000\n",
       "CN     43331.000000\n",
       "PT     42862.500000\n",
       "CL     40038.000000\n",
       "IN     37322.333333\n",
       "DK     37252.500000\n",
       "HU     35997.000000\n",
       "EE     32974.000000\n",
       "TN     31875.000000\n",
       "VN     30800.000000\n",
       "NG     30000.000000\n",
       "MT     28369.000000\n",
       "PK     27462.833333\n",
       "RS     25532.000000\n",
       "CO     21844.000000\n",
       "TR     20096.666667\n",
       "HN     20000.000000\n",
       "MX     18185.000000\n",
       "MD     18000.000000\n",
       "UA     13400.000000\n",
       "KE      9272.000000\n",
       "IR      4000.000000\n",
       "Name: salary_in_usd, dtype: float64"
      ]
     },
     "execution_count": 11,
     "metadata": {},
     "output_type": "execute_result"
    }
   ],
   "source": [
    "df1.groupby('employee_residence').mean()[\"salary_in_usd\"].sort_values(ascending=False)"
   ]
  },
  {
   "cell_type": "code",
   "execution_count": 10,
   "id": "ca70704a",
   "metadata": {},
   "outputs": [
    {
     "data": {
      "text/plain": [
       "employee_residence\n",
       "AE    115000.0\n",
       "AR     60000.0\n",
       "AT     74130.0\n",
       "AU     87425.0\n",
       "BE     85699.0\n",
       "BG     80000.0\n",
       "BO     75000.0\n",
       "BR     21453.5\n",
       "CA     85000.0\n",
       "CH    122346.0\n",
       "CL     40038.0\n",
       "CN     43331.0\n",
       "CO     21844.0\n",
       "CZ     69999.0\n",
       "DE     79197.0\n",
       "DK     37252.5\n",
       "DZ    100000.0\n",
       "EE     32974.0\n",
       "ES     49461.0\n",
       "FR     57920.0\n",
       "GB     78526.0\n",
       "GR     54957.0\n",
       "HK     66022.0\n",
       "HN     20000.0\n",
       "HR     45618.0\n",
       "HU     35997.0\n",
       "IE     71444.0\n",
       "IN     22124.0\n",
       "IQ    100000.0\n",
       "IR      4000.0\n",
       "IT     36366.5\n",
       "JE    100000.0\n",
       "JP     74000.0\n",
       "KE      9272.0\n",
       "LU     59102.0\n",
       "MD     18000.0\n",
       "MT     28369.0\n",
       "MX     18185.0\n",
       "MY    200000.0\n",
       "NG     30000.0\n",
       "NL     62651.0\n",
       "NZ    125000.0\n",
       "PH     45760.0\n",
       "PK     16000.0\n",
       "PL     41093.5\n",
       "PR    160000.0\n",
       "PT     53090.0\n",
       "RO     51419.0\n",
       "RS     25532.0\n",
       "RU     72500.0\n",
       "SG    104176.5\n",
       "SI     63831.0\n",
       "TN     31875.0\n",
       "TR     20171.0\n",
       "UA     13400.0\n",
       "US    138475.0\n",
       "VN     38400.0\n",
       "Name: salary_in_usd, dtype: float64"
      ]
     },
     "execution_count": 10,
     "metadata": {},
     "output_type": "execute_result"
    }
   ],
   "source": [
    "df1.groupby('employee_residence').median()[\"salary_in_usd\"]"
   ]
  },
  {
   "cell_type": "code",
   "execution_count": 18,
   "id": "d97c147d",
   "metadata": {},
   "outputs": [
    {
     "data": {
      "text/plain": [
       "Index(['id', 'work_year', 'experience_level', 'employment_type', 'job_title',\n",
       "       'salary', 'salary_currency', 'salary_in_usd', 'employee_residence',\n",
       "       'remote_ratio', 'company_location', 'company_size'],\n",
       "      dtype='object')"
      ]
     },
     "execution_count": 18,
     "metadata": {},
     "output_type": "execute_result"
    }
   ],
   "source": [
    "df1.columns"
   ]
  },
  {
   "cell_type": "code",
   "execution_count": 36,
   "id": "e5f47e4f",
   "metadata": {},
   "outputs": [
    {
     "data": {
      "text/plain": [
       "work_year\n",
       "2020     72\n",
       "2021    217\n",
       "2022    318\n",
       "Name: job_title, dtype: int64"
      ]
     },
     "execution_count": 36,
     "metadata": {},
     "output_type": "execute_result"
    }
   ],
   "source": [
    "df1.groupby('work_year').count()[\"job_title\"]"
   ]
  },
  {
   "cell_type": "code",
   "execution_count": 22,
   "id": "53142f83",
   "metadata": {},
   "outputs": [
    {
     "data": {
      "text/html": [
       "<div>\n",
       "<style scoped>\n",
       "    .dataframe tbody tr th:only-of-type {\n",
       "        vertical-align: middle;\n",
       "    }\n",
       "\n",
       "    .dataframe tbody tr th {\n",
       "        vertical-align: top;\n",
       "    }\n",
       "\n",
       "    .dataframe thead th {\n",
       "        text-align: right;\n",
       "    }\n",
       "</style>\n",
       "<table border=\"1\" class=\"dataframe\">\n",
       "  <thead>\n",
       "    <tr style=\"text-align: right;\">\n",
       "      <th></th>\n",
       "      <th>work_year</th>\n",
       "      <th>job_title</th>\n",
       "      <th>count</th>\n",
       "    </tr>\n",
       "  </thead>\n",
       "  <tbody>\n",
       "    <tr>\n",
       "      <th>77</th>\n",
       "      <td>2022</td>\n",
       "      <td>Data Engineer</td>\n",
       "      <td>89</td>\n",
       "    </tr>\n",
       "    <tr>\n",
       "      <th>80</th>\n",
       "      <td>2022</td>\n",
       "      <td>Data Scientist</td>\n",
       "      <td>77</td>\n",
       "    </tr>\n",
       "    <tr>\n",
       "      <th>72</th>\n",
       "      <td>2022</td>\n",
       "      <td>Data Analyst</td>\n",
       "      <td>73</td>\n",
       "    </tr>\n",
       "    <tr>\n",
       "      <th>43</th>\n",
       "      <td>2021</td>\n",
       "      <td>Data Scientist</td>\n",
       "      <td>45</td>\n",
       "    </tr>\n",
       "    <tr>\n",
       "      <th>38</th>\n",
       "      <td>2021</td>\n",
       "      <td>Data Engineer</td>\n",
       "      <td>32</td>\n",
       "    </tr>\n",
       "    <tr>\n",
       "      <th>10</th>\n",
       "      <td>2020</td>\n",
       "      <td>Data Scientist</td>\n",
       "      <td>21</td>\n",
       "    </tr>\n",
       "    <tr>\n",
       "      <th>91</th>\n",
       "      <td>2022</td>\n",
       "      <td>Machine Learning Engineer</td>\n",
       "      <td>18</td>\n",
       "    </tr>\n",
       "    <tr>\n",
       "      <th>56</th>\n",
       "      <td>2021</td>\n",
       "      <td>Machine Learning Engineer</td>\n",
       "      <td>18</td>\n",
       "    </tr>\n",
       "    <tr>\n",
       "      <th>34</th>\n",
       "      <td>2021</td>\n",
       "      <td>Data Analyst</td>\n",
       "      <td>17</td>\n",
       "    </tr>\n",
       "    <tr>\n",
       "      <th>6</th>\n",
       "      <td>2020</td>\n",
       "      <td>Data Engineer</td>\n",
       "      <td>11</td>\n",
       "    </tr>\n",
       "  </tbody>\n",
       "</table>\n",
       "</div>"
      ],
      "text/plain": [
       "    work_year                  job_title  count\n",
       "77       2022              Data Engineer     89\n",
       "80       2022             Data Scientist     77\n",
       "72       2022               Data Analyst     73\n",
       "43       2021             Data Scientist     45\n",
       "38       2021              Data Engineer     32\n",
       "10       2020             Data Scientist     21\n",
       "91       2022  Machine Learning Engineer     18\n",
       "56       2021  Machine Learning Engineer     18\n",
       "34       2021               Data Analyst     17\n",
       "6        2020              Data Engineer     11"
      ]
     },
     "execution_count": 22,
     "metadata": {},
     "output_type": "execute_result"
    }
   ],
   "source": [
    "job_demand = df1.groupby(['work_year', 'job_title']).size().reset_index(name='count')\n",
    "top_10 = job_demand.sort_values(by='count', ascending=False).head(10)\n",
    "top_10"
   ]
  },
  {
   "cell_type": "code",
   "execution_count": 17,
   "id": "7d1eed43",
   "metadata": {},
   "outputs": [
    {
     "data": {
      "text/plain": [
       "work_year  job_title                \n",
       "2022       Data Engineer                89\n",
       "           Data Scientist               77\n",
       "           Data Analyst                 73\n",
       "2021       Data Scientist               45\n",
       "           Data Engineer                32\n",
       "2020       Data Scientist               21\n",
       "2022       Machine Learning Engineer    18\n",
       "2021       Machine Learning Engineer    18\n",
       "           Data Analyst                 17\n",
       "2020       Data Engineer                11\n",
       "dtype: int64"
      ]
     },
     "execution_count": 17,
     "metadata": {},
     "output_type": "execute_result"
    }
   ],
   "source": [
    "df1[['work_year',\"job_title\"]].value_counts().head(10)"
   ]
  },
  {
   "cell_type": "code",
   "execution_count": 51,
   "id": "5393921c",
   "metadata": {
    "scrolled": true
   },
   "outputs": [
    {
     "data": {
      "text/plain": [
       "<Axes: >"
      ]
     },
     "execution_count": 51,
     "metadata": {},
     "output_type": "execute_result"
    },
    {
     "data": {
      "image/png": "[encoded data removed]",
      "text/plain": [
       "<Figure size 1170x2527 with 1 Axes>"
      ]
     },
     "metadata": {},
     "output_type": "display_data"
    }
   ],
   "source": [
    "df['remote_ratio'].value_counts().plot(kind = 'bar')"
   ]
  },
  {
   "cell_type": "code",
   "execution_count": 25,
   "id": "e837851b",
   "metadata": {},
   "outputs": [
    {
     "data": {
      "image/png": "[encoded data removed]",
      "text/plain": [
       "<Figure size 640x480 with 1 Axes>"
      ]
     },
     "metadata": {},
     "output_type": "display_data"
    }
   ],
   "source": [
    "df['remote_ratio'].value_counts().plot(kind='bar')\n",
    "plt.xlabel('Remote Work Ratio')\n",
    "plt.ylabel('Count')\n",
    "plt.title('Prevalence of Remote Work')\n",
    "plt.show()"
   ]
  },
  {
   "cell_type": "code",
   "execution_count": 48,
   "id": "a5176b89",
   "metadata": {},
   "outputs": [
    {
     "data": {
      "text/plain": [
       "100    381\n",
       "0      127\n",
       "50      99\n",
       "Name: remote_ratio, dtype: int64"
      ]
     },
     "execution_count": 48,
     "metadata": {},
     "output_type": "execute_result"
    }
   ],
   "source": [
    "df['remote_ratio'].value_counts()"
   ]
  },
  {
   "cell_type": "code",
   "execution_count": 52,
   "id": "d08d5f3c",
   "metadata": {},
   "outputs": [
    {
     "data": {
      "text/plain": [
       "Index(['id', 'work_year', 'experience_level', 'employment_type', 'job_title',\n",
       "       'salary', 'salary_currency', 'salary_in_usd', 'employee_residence',\n",
       "       'remote_ratio', 'company_location', 'company_size'],\n",
       "      dtype='object')"
      ]
     },
     "execution_count": 52,
     "metadata": {},
     "output_type": "execute_result"
    }
   ],
   "source": [
    "df1.columns"
   ]
  },
  {
   "cell_type": "code",
   "execution_count": 8,
   "id": "a52363c2",
   "metadata": {},
   "outputs": [],
   "source": [
    "df_new=df"
   ]
  },
  {
   "cell_type": "code",
   "execution_count": 8,
   "id": "5d5a4414",
   "metadata": {},
   "outputs": [
    {
     "data": {
      "text/plain": [
       "experience_level\n",
       "EN     88\n",
       "EX     26\n",
       "MI    213\n",
       "SE    280\n",
       "Name: job_title, dtype: int64"
      ]
     },
     "execution_count": 8,
     "metadata": {},
     "output_type": "execute_result"
    }
   ],
   "source": [
    "df_new.groupby('experience_level').count()[\"job_title\"]"
   ]
  },
  {
   "cell_type": "code",
   "execution_count": 10,
   "id": "a6ed7cbf",
   "metadata": {
    "collapsed": true
   },
   "outputs": [
    {
     "data": {
      "text/html": [
       "<div>\n",
       "<style scoped>\n",
       "    .dataframe tbody tr th:only-of-type {\n",
       "        vertical-align: middle;\n",
       "    }\n",
       "\n",
       "    .dataframe tbody tr th {\n",
       "        vertical-align: top;\n",
       "    }\n",
       "\n",
       "    .dataframe thead th {\n",
       "        text-align: right;\n",
       "    }\n",
       "</style>\n",
       "<table border=\"1\" class=\"dataframe\">\n",
       "  <thead>\n",
       "    <tr style=\"text-align: right;\">\n",
       "      <th></th>\n",
       "      <th>id</th>\n",
       "      <th>work_year</th>\n",
       "      <th>experience_level</th>\n",
       "      <th>employment_type</th>\n",
       "      <th>job_title</th>\n",
       "      <th>salary</th>\n",
       "      <th>salary_currency</th>\n",
       "      <th>salary_in_usd</th>\n",
       "      <th>employee_residence</th>\n",
       "      <th>remote_ratio</th>\n",
       "      <th>company_location</th>\n",
       "      <th>company_size</th>\n",
       "    </tr>\n",
       "  </thead>\n",
       "  <tbody>\n",
       "    <tr>\n",
       "      <th>252</th>\n",
       "      <td>252</td>\n",
       "      <td>2021</td>\n",
       "      <td>EX</td>\n",
       "      <td>FT</td>\n",
       "      <td>Principal Data Engineer</td>\n",
       "      <td>600000</td>\n",
       "      <td>USD</td>\n",
       "      <td>600000</td>\n",
       "      <td>US</td>\n",
       "      <td>100</td>\n",
       "      <td>US</td>\n",
       "      <td>L</td>\n",
       "    </tr>\n",
       "    <tr>\n",
       "      <th>97</th>\n",
       "      <td>97</td>\n",
       "      <td>2021</td>\n",
       "      <td>MI</td>\n",
       "      <td>FT</td>\n",
       "      <td>Financial Data Analyst</td>\n",
       "      <td>450000</td>\n",
       "      <td>USD</td>\n",
       "      <td>450000</td>\n",
       "      <td>US</td>\n",
       "      <td>100</td>\n",
       "      <td>US</td>\n",
       "      <td>L</td>\n",
       "    </tr>\n",
       "    <tr>\n",
       "      <th>33</th>\n",
       "      <td>33</td>\n",
       "      <td>2020</td>\n",
       "      <td>MI</td>\n",
       "      <td>FT</td>\n",
       "      <td>Research Scientist</td>\n",
       "      <td>450000</td>\n",
       "      <td>USD</td>\n",
       "      <td>450000</td>\n",
       "      <td>US</td>\n",
       "      <td>0</td>\n",
       "      <td>US</td>\n",
       "      <td>M</td>\n",
       "    </tr>\n",
       "    <tr>\n",
       "      <th>157</th>\n",
       "      <td>157</td>\n",
       "      <td>2021</td>\n",
       "      <td>MI</td>\n",
       "      <td>FT</td>\n",
       "      <td>Applied Machine Learning Scientist</td>\n",
       "      <td>423000</td>\n",
       "      <td>USD</td>\n",
       "      <td>423000</td>\n",
       "      <td>US</td>\n",
       "      <td>50</td>\n",
       "      <td>US</td>\n",
       "      <td>L</td>\n",
       "    </tr>\n",
       "    <tr>\n",
       "      <th>225</th>\n",
       "      <td>225</td>\n",
       "      <td>2021</td>\n",
       "      <td>EX</td>\n",
       "      <td>CT</td>\n",
       "      <td>Principal Data Scientist</td>\n",
       "      <td>416000</td>\n",
       "      <td>USD</td>\n",
       "      <td>416000</td>\n",
       "      <td>US</td>\n",
       "      <td>100</td>\n",
       "      <td>US</td>\n",
       "      <td>S</td>\n",
       "    </tr>\n",
       "  </tbody>\n",
       "</table>\n",
       "</div>"
      ],
      "text/plain": [
       "      id  work_year experience_level employment_type  \\\n",
       "252  252       2021               EX              FT   \n",
       "97    97       2021               MI              FT   \n",
       "33    33       2020               MI              FT   \n",
       "157  157       2021               MI              FT   \n",
       "225  225       2021               EX              CT   \n",
       "\n",
       "                              job_title  salary salary_currency  \\\n",
       "252             Principal Data Engineer  600000             USD   \n",
       "97               Financial Data Analyst  450000             USD   \n",
       "33                   Research Scientist  450000             USD   \n",
       "157  Applied Machine Learning Scientist  423000             USD   \n",
       "225            Principal Data Scientist  416000             USD   \n",
       "\n",
       "     salary_in_usd employee_residence  remote_ratio company_location  \\\n",
       "252         600000                 US           100               US   \n",
       "97          450000                 US           100               US   \n",
       "33          450000                 US             0               US   \n",
       "157         423000                 US            50               US   \n",
       "225         416000                 US           100               US   \n",
       "\n",
       "    company_size  \n",
       "252            L  \n",
       "97             L  \n",
       "33             M  \n",
       "157            L  \n",
       "225            S  "
      ]
     },
     "execution_count": 10,
     "metadata": {},
     "output_type": "execute_result"
    }
   ],
   "source": [
    "df_new.head(5)"
   ]
  },
  {
   "cell_type": "code",
   "execution_count": 13,
   "id": "969bb467",
   "metadata": {},
   "outputs": [
    {
     "name": "stdout",
     "output_type": "stream",
     "text": [
      "Highest Salary at Senior Level:  600000\n",
      "Highest Salary at Entry Level:  250000\n"
     ]
    }
   ],
   "source": [
    "df_new1= df_new.query(\"experience_level == 'EX'\")['salary_in_usd'].max()\n",
    "print(\"Highest Salary at Senior Level: \",df_new1)\n",
    "df_new2= df_new.query(\"experience_level == 'EN'\")['salary_in_usd'].max()\n",
    "print(\"Highest Salary at Entry Level: \",df_new2)"
   ]
  },
  {
   "cell_type": "code",
   "execution_count": 32,
   "id": "4d1e0187",
   "metadata": {},
   "outputs": [
    {
     "data": {
      "text/plain": [
       "'Principal Data Engineer'"
      ]
     },
     "metadata": {},
     "output_type": "display_data"
    }
   ],
   "source": [
    "\"\"\"\n",
    "df_new11= df_new['job_title']\n",
    "df_new22 = df_new['job_title']\n",
    "df_new11 = df_new1.join(df_new11)\n",
    "display(df_new11)\n",
    "\"\"\"\n",
    "df_new11 = df_new.iloc[0]['job_title']\n",
    "display(df_new11)"
   ]
  },
  {
   "cell_type": "code",
   "execution_count": 35,
   "id": "4aeb0297",
   "metadata": {},
   "outputs": [
    {
     "name": "stdout",
     "output_type": "stream",
     "text": [
      "     salary_in_usd                 job_title\n",
      "252         600000   Principal Data Engineer\n",
      "225         416000  Principal Data Scientist\n",
      "25          325000  Director of Data Science\n",
      "482         324000             Data Engineer\n",
      "167         250000  Director of Data Science\n",
      "309         242000             Data Engineer\n",
      "74          235000              Head of Data\n",
      "160         230000              Head of Data\n",
      "342         224000      Head of Data Science\n",
      "483         216000             Data Engineer\n",
      "310         200000             Data Engineer\n",
      "452         196979  Director of Data Science\n",
      "344         175000        Analytics Engineer\n",
      "343         167875      Head of Data Science\n",
      "84          153667  Director of Data Science\n",
      "73          150000           BI Data Analyst\n",
      "259         141846  Director of Data Science\n",
      "368         135000        Analytics Engineer\n",
      "164         130026  Director of Data Science\n",
      "326         130000              Data Analyst\n",
      "375         118187        Lead Data Engineer\n",
      "327         110000              Data Analyst\n",
      "161          85000      Head of Data Science\n",
      "41           79833  Data Engineering Manager\n",
      "384          79039  Head of Machine Learning\n",
      "187          69741   Data Science Consultant\n"
     ]
    }
   ],
   "source": [
    "df_new11=df_new.loc[df_new['experience_level']== 'EX' ,['salary_in_usd','job_title']]\n",
    "print(df_new11)"
   ]
  },
  {
   "cell_type": "code",
   "execution_count": 36,
   "id": "1b3a64f8",
   "metadata": {},
   "outputs": [
    {
     "data": {
      "text/html": [
       "<div>\n",
       "<style scoped>\n",
       "    .dataframe tbody tr th:only-of-type {\n",
       "        vertical-align: middle;\n",
       "    }\n",
       "\n",
       "    .dataframe tbody tr th {\n",
       "        vertical-align: top;\n",
       "    }\n",
       "\n",
       "    .dataframe thead th {\n",
       "        text-align: right;\n",
       "    }\n",
       "</style>\n",
       "<table border=\"1\" class=\"dataframe\">\n",
       "  <thead>\n",
       "    <tr style=\"text-align: right;\">\n",
       "      <th></th>\n",
       "      <th>salary_in_usd</th>\n",
       "      <th>job_title</th>\n",
       "    </tr>\n",
       "  </thead>\n",
       "  <tbody>\n",
       "    <tr>\n",
       "      <th>252</th>\n",
       "      <td>600000</td>\n",
       "      <td>Principal Data Engineer</td>\n",
       "    </tr>\n",
       "  </tbody>\n",
       "</table>\n",
       "</div>"
      ],
      "text/plain": [
       "     salary_in_usd                job_title\n",
       "252         600000  Principal Data Engineer"
      ]
     },
     "execution_count": 36,
     "metadata": {},
     "output_type": "execute_result"
    }
   ],
   "source": [
    "df_new11.head(1)"
   ]
  },
  {
   "cell_type": "code",
   "execution_count": 31,
   "id": "d533c39e",
   "metadata": {},
   "outputs": [
    {
     "data": {
      "text/html": [
       "<div>\n",
       "<style scoped>\n",
       "    .dataframe tbody tr th:only-of-type {\n",
       "        vertical-align: middle;\n",
       "    }\n",
       "\n",
       "    .dataframe tbody tr th {\n",
       "        vertical-align: top;\n",
       "    }\n",
       "\n",
       "    .dataframe thead th {\n",
       "        text-align: right;\n",
       "    }\n",
       "</style>\n",
       "<table border=\"1\" class=\"dataframe\">\n",
       "  <thead>\n",
       "    <tr style=\"text-align: right;\">\n",
       "      <th></th>\n",
       "      <th>salary_in_usd</th>\n",
       "      <th>job_title</th>\n",
       "    </tr>\n",
       "  </thead>\n",
       "  <tbody>\n",
       "    <tr>\n",
       "      <th>37</th>\n",
       "      <td>250000</td>\n",
       "      <td>Machine Learning Engineer</td>\n",
       "    </tr>\n",
       "    <tr>\n",
       "      <th>115</th>\n",
       "      <td>225000</td>\n",
       "      <td>Machine Learning Scientist</td>\n",
       "    </tr>\n",
       "    <tr>\n",
       "      <th>510</th>\n",
       "      <td>150000</td>\n",
       "      <td>Computer Vision Software Engineer</td>\n",
       "    </tr>\n",
       "    <tr>\n",
       "      <th>39</th>\n",
       "      <td>138000</td>\n",
       "      <td>Machine Learning Engineer</td>\n",
       "    </tr>\n",
       "    <tr>\n",
       "      <th>159</th>\n",
       "      <td>125000</td>\n",
       "      <td>Machine Learning Engineer</td>\n",
       "    </tr>\n",
       "    <tr>\n",
       "      <th>...</th>\n",
       "      <td>...</td>\n",
       "      <td>...</td>\n",
       "    </tr>\n",
       "    <tr>\n",
       "      <th>196</th>\n",
       "      <td>9272</td>\n",
       "      <td>BI Data Analyst</td>\n",
       "    </tr>\n",
       "    <tr>\n",
       "      <th>50</th>\n",
       "      <td>6072</td>\n",
       "      <td>Data Analyst</td>\n",
       "    </tr>\n",
       "    <tr>\n",
       "      <th>213</th>\n",
       "      <td>5882</td>\n",
       "      <td>Big Data Engineer</td>\n",
       "    </tr>\n",
       "    <tr>\n",
       "      <th>18</th>\n",
       "      <td>5707</td>\n",
       "      <td>Data Science Consultant</td>\n",
       "    </tr>\n",
       "    <tr>\n",
       "      <th>238</th>\n",
       "      <td>4000</td>\n",
       "      <td>Data Scientist</td>\n",
       "    </tr>\n",
       "  </tbody>\n",
       "</table>\n",
       "<p>88 rows × 2 columns</p>\n",
       "</div>"
      ],
      "text/plain": [
       "     salary_in_usd                          job_title\n",
       "37          250000          Machine Learning Engineer\n",
       "115         225000         Machine Learning Scientist\n",
       "510         150000  Computer Vision Software Engineer\n",
       "39          138000          Machine Learning Engineer\n",
       "159         125000          Machine Learning Engineer\n",
       "..             ...                                ...\n",
       "196           9272                    BI Data Analyst\n",
       "50            6072                       Data Analyst\n",
       "213           5882                  Big Data Engineer\n",
       "18            5707            Data Science Consultant\n",
       "238           4000                     Data Scientist\n",
       "\n",
       "[88 rows x 2 columns]"
      ]
     },
     "execution_count": 31,
     "metadata": {},
     "output_type": "execute_result"
    }
   ],
   "source": [
    "df_new.loc[df_new['experience_level']== 'EN' ,['salary_in_usd','job_title']]"
   ]
  },
  {
   "cell_type": "code",
   "execution_count": 33,
   "id": "f02523b4",
   "metadata": {},
   "outputs": [
    {
     "data": {
      "text/html": [
       "<div>\n",
       "<style scoped>\n",
       "    .dataframe tbody tr th:only-of-type {\n",
       "        vertical-align: middle;\n",
       "    }\n",
       "\n",
       "    .dataframe tbody tr th {\n",
       "        vertical-align: top;\n",
       "    }\n",
       "\n",
       "    .dataframe thead th {\n",
       "        text-align: right;\n",
       "    }\n",
       "</style>\n",
       "<table border=\"1\" class=\"dataframe\">\n",
       "  <thead>\n",
       "    <tr style=\"text-align: right;\">\n",
       "      <th></th>\n",
       "      <th>salary_in_usd</th>\n",
       "      <th>job_title</th>\n",
       "    </tr>\n",
       "  </thead>\n",
       "  <tbody>\n",
       "    <tr>\n",
       "      <th>37</th>\n",
       "      <td>250000</td>\n",
       "      <td>Machine Learning Engineer</td>\n",
       "    </tr>\n",
       "  </tbody>\n",
       "</table>\n",
       "</div>"
      ],
      "text/plain": [
       "    salary_in_usd                  job_title\n",
       "37         250000  Machine Learning Engineer"
      ]
     },
     "execution_count": 33,
     "metadata": {},
     "output_type": "execute_result"
    }
   ],
   "source": [
    "df_new22=df_new.loc[df_new['experience_level']== 'EN' ,['salary_in_usd','job_title']]\n",
    "df_new22.head(1)"
   ]
  },
  {
   "cell_type": "code",
   "execution_count": 30,
   "id": "cff3d7f7",
   "metadata": {},
   "outputs": [],
   "source": [
    "df_new=df_new.sort_values(by=['salary_in_usd'], ascending=False)"
   ]
  },
  {
   "cell_type": "code",
   "execution_count": 38,
   "id": "7e0417ea",
   "metadata": {},
   "outputs": [
    {
     "data": {
      "text/html": [
       "<div>\n",
       "<style scoped>\n",
       "    .dataframe tbody tr th:only-of-type {\n",
       "        vertical-align: middle;\n",
       "    }\n",
       "\n",
       "    .dataframe tbody tr th {\n",
       "        vertical-align: top;\n",
       "    }\n",
       "\n",
       "    .dataframe thead th {\n",
       "        text-align: right;\n",
       "    }\n",
       "</style>\n",
       "<table border=\"1\" class=\"dataframe\">\n",
       "  <thead>\n",
       "    <tr style=\"text-align: right;\">\n",
       "      <th></th>\n",
       "      <th>salary_in_usd</th>\n",
       "      <th>job_title</th>\n",
       "    </tr>\n",
       "  </thead>\n",
       "  <tbody>\n",
       "    <tr>\n",
       "      <th>37</th>\n",
       "      <td>250000</td>\n",
       "      <td>Machine Learning Engineer</td>\n",
       "    </tr>\n",
       "    <tr>\n",
       "      <th>115</th>\n",
       "      <td>225000</td>\n",
       "      <td>Machine Learning Scientist</td>\n",
       "    </tr>\n",
       "    <tr>\n",
       "      <th>510</th>\n",
       "      <td>150000</td>\n",
       "      <td>Computer Vision Software Engineer</td>\n",
       "    </tr>\n",
       "    <tr>\n",
       "      <th>39</th>\n",
       "      <td>138000</td>\n",
       "      <td>Machine Learning Engineer</td>\n",
       "    </tr>\n",
       "    <tr>\n",
       "      <th>159</th>\n",
       "      <td>125000</td>\n",
       "      <td>Machine Learning Engineer</td>\n",
       "    </tr>\n",
       "  </tbody>\n",
       "</table>\n",
       "</div>"
      ],
      "text/plain": [
       "     salary_in_usd                          job_title\n",
       "37          250000          Machine Learning Engineer\n",
       "115         225000         Machine Learning Scientist\n",
       "510         150000  Computer Vision Software Engineer\n",
       "39          138000          Machine Learning Engineer\n",
       "159         125000          Machine Learning Engineer"
      ]
     },
     "execution_count": 38,
     "metadata": {},
     "output_type": "execute_result"
    }
   ],
   "source": [
    "# At Entry Level\n",
    "df_new.loc[df_new['experience_level']== 'EN' ,['salary_in_usd','job_title']].head(5)"
   ]
  },
  {
   "cell_type": "code",
   "execution_count": 40,
   "id": "8acb81ed",
   "metadata": {},
   "outputs": [
    {
     "data": {
      "text/html": [
       "<div>\n",
       "<style scoped>\n",
       "    .dataframe tbody tr th:only-of-type {\n",
       "        vertical-align: middle;\n",
       "    }\n",
       "\n",
       "    .dataframe tbody tr th {\n",
       "        vertical-align: top;\n",
       "    }\n",
       "\n",
       "    .dataframe thead th {\n",
       "        text-align: right;\n",
       "    }\n",
       "</style>\n",
       "<table border=\"1\" class=\"dataframe\">\n",
       "  <thead>\n",
       "    <tr style=\"text-align: right;\">\n",
       "      <th></th>\n",
       "      <th>salary_in_usd</th>\n",
       "      <th>job_title</th>\n",
       "    </tr>\n",
       "  </thead>\n",
       "  <tbody>\n",
       "    <tr>\n",
       "      <th>252</th>\n",
       "      <td>600000</td>\n",
       "      <td>Principal Data Engineer</td>\n",
       "    </tr>\n",
       "    <tr>\n",
       "      <th>225</th>\n",
       "      <td>416000</td>\n",
       "      <td>Principal Data Scientist</td>\n",
       "    </tr>\n",
       "    <tr>\n",
       "      <th>25</th>\n",
       "      <td>325000</td>\n",
       "      <td>Director of Data Science</td>\n",
       "    </tr>\n",
       "    <tr>\n",
       "      <th>482</th>\n",
       "      <td>324000</td>\n",
       "      <td>Data Engineer</td>\n",
       "    </tr>\n",
       "    <tr>\n",
       "      <th>167</th>\n",
       "      <td>250000</td>\n",
       "      <td>Director of Data Science</td>\n",
       "    </tr>\n",
       "  </tbody>\n",
       "</table>\n",
       "</div>"
      ],
      "text/plain": [
       "     salary_in_usd                 job_title\n",
       "252         600000   Principal Data Engineer\n",
       "225         416000  Principal Data Scientist\n",
       "25          325000  Director of Data Science\n",
       "482         324000             Data Engineer\n",
       "167         250000  Director of Data Science"
      ]
     },
     "execution_count": 40,
     "metadata": {},
     "output_type": "execute_result"
    }
   ],
   "source": [
    "# At Experienced Level\n",
    "df_new.loc[df_new['experience_level']== 'EX' ,['salary_in_usd','job_title']].head(5)"
   ]
  },
  {
   "cell_type": "code",
   "execution_count": 42,
   "id": "24a3bd7f",
   "metadata": {},
   "outputs": [
    {
     "name": "stdout",
     "output_type": "stream",
     "text": [
      "Company Size 'L' hires Data Scientist the most\n"
     ]
    }
   ],
   "source": [
    "df_newL= df_new.query(\"company_size == 'L'\")['job_title'].mode()[0]\n",
    "print(\"Company Size 'L' hires\",df_newL,\"the most\")"
   ]
  },
  {
   "cell_type": "code",
   "execution_count": 43,
   "id": "9f9767b0",
   "metadata": {},
   "outputs": [
    {
     "name": "stdout",
     "output_type": "stream",
     "text": [
      "Company Size 'M' hires Data Engineer the most\n"
     ]
    }
   ],
   "source": [
    "df_newM= df_new.query(\"company_size == 'M'\")['job_title'].mode()[0]\n",
    "print(\"Company Size 'M' hires\",df_newM,\"the most\")"
   ]
  },
  {
   "cell_type": "code",
   "execution_count": 44,
   "id": "72b4bd9c",
   "metadata": {},
   "outputs": [
    {
     "name": "stdout",
     "output_type": "stream",
     "text": [
      "Company Size 'S' hires Data Scientist the most\n"
     ]
    }
   ],
   "source": [
    "df_newS= df_new.query(\"company_size == 'S'\")['job_title'].mode()[0]\n",
    "print(\"Company Size 'S' hires\",df_newS,\"the most\")"
   ]
  },
  {
   "cell_type": "code",
   "execution_count": 33,
   "id": "a7c68526",
   "metadata": {},
   "outputs": [
    {
     "data": {
      "text/plain": [
       "Index(['id', 'work_year', 'experience_level', 'employment_type', 'job_title',\n",
       "       'salary', 'salary_currency', 'salary_in_usd', 'employee_residence',\n",
       "       'remote_ratio', 'company_location', 'company_size'],\n",
       "      dtype='object')"
      ]
     },
     "execution_count": 33,
     "metadata": {},
     "output_type": "execute_result"
    }
   ],
   "source": [
    "df_new.columns"
   ]
  },
  {
   "cell_type": "code",
   "execution_count": null,
   "id": "09b14afe",
   "metadata": {},
   "outputs": [],
   "source": []
  },
  {
   "cell_type": "code",
   "execution_count": 59,
   "id": "74c43229",
   "metadata": {},
   "outputs": [
    {
     "data": {
      "text/html": [
       "<div>\n",
       "<style scoped>\n",
       "    .dataframe tbody tr th:only-of-type {\n",
       "        vertical-align: middle;\n",
       "    }\n",
       "\n",
       "    .dataframe tbody tr th {\n",
       "        vertical-align: top;\n",
       "    }\n",
       "\n",
       "    .dataframe thead th {\n",
       "        text-align: right;\n",
       "    }\n",
       "</style>\n",
       "<table border=\"1\" class=\"dataframe\">\n",
       "  <thead>\n",
       "    <tr style=\"text-align: right;\">\n",
       "      <th></th>\n",
       "      <th>id</th>\n",
       "      <th>work_year</th>\n",
       "      <th>experience_level</th>\n",
       "      <th>employment_type</th>\n",
       "      <th>job_title</th>\n",
       "      <th>salary</th>\n",
       "      <th>salary_currency</th>\n",
       "      <th>salary_in_usd</th>\n",
       "      <th>employee_residence</th>\n",
       "      <th>remote_ratio</th>\n",
       "      <th>company_location</th>\n",
       "      <th>company_size</th>\n",
       "    </tr>\n",
       "  </thead>\n",
       "  <tbody>\n",
       "    <tr>\n",
       "      <th>252</th>\n",
       "      <td>252</td>\n",
       "      <td>2021</td>\n",
       "      <td>EX</td>\n",
       "      <td>FT</td>\n",
       "      <td>Principal Data Engineer</td>\n",
       "      <td>600000</td>\n",
       "      <td>USD</td>\n",
       "      <td>600000</td>\n",
       "      <td>US</td>\n",
       "      <td>100</td>\n",
       "      <td>US</td>\n",
       "      <td>L</td>\n",
       "    </tr>\n",
       "    <tr>\n",
       "      <th>97</th>\n",
       "      <td>97</td>\n",
       "      <td>2021</td>\n",
       "      <td>MI</td>\n",
       "      <td>FT</td>\n",
       "      <td>Financial Data Analyst</td>\n",
       "      <td>450000</td>\n",
       "      <td>USD</td>\n",
       "      <td>450000</td>\n",
       "      <td>US</td>\n",
       "      <td>100</td>\n",
       "      <td>US</td>\n",
       "      <td>L</td>\n",
       "    </tr>\n",
       "    <tr>\n",
       "      <th>33</th>\n",
       "      <td>33</td>\n",
       "      <td>2020</td>\n",
       "      <td>MI</td>\n",
       "      <td>FT</td>\n",
       "      <td>Research Scientist</td>\n",
       "      <td>450000</td>\n",
       "      <td>USD</td>\n",
       "      <td>450000</td>\n",
       "      <td>US</td>\n",
       "      <td>0</td>\n",
       "      <td>US</td>\n",
       "      <td>M</td>\n",
       "    </tr>\n",
       "    <tr>\n",
       "      <th>157</th>\n",
       "      <td>157</td>\n",
       "      <td>2021</td>\n",
       "      <td>MI</td>\n",
       "      <td>FT</td>\n",
       "      <td>Applied Machine Learning Scientist</td>\n",
       "      <td>423000</td>\n",
       "      <td>USD</td>\n",
       "      <td>423000</td>\n",
       "      <td>US</td>\n",
       "      <td>50</td>\n",
       "      <td>US</td>\n",
       "      <td>L</td>\n",
       "    </tr>\n",
       "    <tr>\n",
       "      <th>225</th>\n",
       "      <td>225</td>\n",
       "      <td>2021</td>\n",
       "      <td>EX</td>\n",
       "      <td>CT</td>\n",
       "      <td>Principal Data Scientist</td>\n",
       "      <td>416000</td>\n",
       "      <td>USD</td>\n",
       "      <td>416000</td>\n",
       "      <td>US</td>\n",
       "      <td>100</td>\n",
       "      <td>US</td>\n",
       "      <td>S</td>\n",
       "    </tr>\n",
       "  </tbody>\n",
       "</table>\n",
       "</div>"
      ],
      "text/plain": [
       "      id  work_year experience_level employment_type  \\\n",
       "252  252       2021               EX              FT   \n",
       "97    97       2021               MI              FT   \n",
       "33    33       2020               MI              FT   \n",
       "157  157       2021               MI              FT   \n",
       "225  225       2021               EX              CT   \n",
       "\n",
       "                              job_title  salary salary_currency  \\\n",
       "252             Principal Data Engineer  600000             USD   \n",
       "97               Financial Data Analyst  450000             USD   \n",
       "33                   Research Scientist  450000             USD   \n",
       "157  Applied Machine Learning Scientist  423000             USD   \n",
       "225            Principal Data Scientist  416000             USD   \n",
       "\n",
       "     salary_in_usd employee_residence  remote_ratio company_location  \\\n",
       "252         600000                 US           100               US   \n",
       "97          450000                 US           100               US   \n",
       "33          450000                 US             0               US   \n",
       "157         423000                 US            50               US   \n",
       "225         416000                 US           100               US   \n",
       "\n",
       "    company_size  \n",
       "252            L  \n",
       "97             L  \n",
       "33             M  \n",
       "157            L  \n",
       "225            S  "
      ]
     },
     "execution_count": 59,
     "metadata": {},
     "output_type": "execute_result"
    }
   ],
   "source": [
    "df_new.head(5)"
   ]
  },
  {
   "cell_type": "code",
   "execution_count": 60,
   "id": "181025c0",
   "metadata": {},
   "outputs": [
    {
     "data": {
      "text/plain": [
       "Index(['id', 'work_year', 'experience_level', 'employment_type', 'job_title',\n",
       "       'salary', 'salary_currency', 'salary_in_usd', 'employee_residence',\n",
       "       'remote_ratio', 'company_location', 'company_size'],\n",
       "      dtype='object')"
      ]
     },
     "execution_count": 60,
     "metadata": {},
     "output_type": "execute_result"
    }
   ],
   "source": [
    "df_new.columns\n"
   ]
  },
  {
   "cell_type": "code",
   "execution_count": 9,
   "id": "9607ab6d",
   "metadata": {},
   "outputs": [],
   "source": [
    "df_prac=df"
   ]
  },
  {
   "cell_type": "code",
   "execution_count": 5,
   "id": "139f3b61",
   "metadata": {},
   "outputs": [
    {
     "data": {
      "text/html": [
       "<div>\n",
       "<style scoped>\n",
       "    .dataframe tbody tr th:only-of-type {\n",
       "        vertical-align: middle;\n",
       "    }\n",
       "\n",
       "    .dataframe tbody tr th {\n",
       "        vertical-align: top;\n",
       "    }\n",
       "\n",
       "    .dataframe thead th {\n",
       "        text-align: right;\n",
       "    }\n",
       "</style>\n",
       "<table border=\"1\" class=\"dataframe\">\n",
       "  <thead>\n",
       "    <tr style=\"text-align: right;\">\n",
       "      <th></th>\n",
       "      <th>id</th>\n",
       "      <th>work_year</th>\n",
       "      <th>experience_level</th>\n",
       "      <th>employment_type</th>\n",
       "      <th>job_title</th>\n",
       "      <th>salary</th>\n",
       "      <th>salary_currency</th>\n",
       "      <th>salary_in_usd</th>\n",
       "      <th>employee_residence</th>\n",
       "      <th>remote_ratio</th>\n",
       "      <th>company_location</th>\n",
       "      <th>company_size</th>\n",
       "    </tr>\n",
       "  </thead>\n",
       "  <tbody>\n",
       "    <tr>\n",
       "      <th>0</th>\n",
       "      <td>0</td>\n",
       "      <td>2020</td>\n",
       "      <td>MI</td>\n",
       "      <td>FT</td>\n",
       "      <td>Data Scientist</td>\n",
       "      <td>70000</td>\n",
       "      <td>EUR</td>\n",
       "      <td>79833</td>\n",
       "      <td>DE</td>\n",
       "      <td>0</td>\n",
       "      <td>DE</td>\n",
       "      <td>L</td>\n",
       "    </tr>\n",
       "    <tr>\n",
       "      <th>1</th>\n",
       "      <td>1</td>\n",
       "      <td>2020</td>\n",
       "      <td>SE</td>\n",
       "      <td>FT</td>\n",
       "      <td>Machine Learning Scientist</td>\n",
       "      <td>260000</td>\n",
       "      <td>USD</td>\n",
       "      <td>260000</td>\n",
       "      <td>JP</td>\n",
       "      <td>0</td>\n",
       "      <td>JP</td>\n",
       "      <td>S</td>\n",
       "    </tr>\n",
       "    <tr>\n",
       "      <th>2</th>\n",
       "      <td>2</td>\n",
       "      <td>2020</td>\n",
       "      <td>SE</td>\n",
       "      <td>FT</td>\n",
       "      <td>Big Data Engineer</td>\n",
       "      <td>85000</td>\n",
       "      <td>GBP</td>\n",
       "      <td>109024</td>\n",
       "      <td>GB</td>\n",
       "      <td>50</td>\n",
       "      <td>GB</td>\n",
       "      <td>M</td>\n",
       "    </tr>\n",
       "    <tr>\n",
       "      <th>3</th>\n",
       "      <td>3</td>\n",
       "      <td>2020</td>\n",
       "      <td>MI</td>\n",
       "      <td>FT</td>\n",
       "      <td>Product Data Analyst</td>\n",
       "      <td>20000</td>\n",
       "      <td>USD</td>\n",
       "      <td>20000</td>\n",
       "      <td>HN</td>\n",
       "      <td>0</td>\n",
       "      <td>HN</td>\n",
       "      <td>S</td>\n",
       "    </tr>\n",
       "    <tr>\n",
       "      <th>4</th>\n",
       "      <td>4</td>\n",
       "      <td>2020</td>\n",
       "      <td>SE</td>\n",
       "      <td>FT</td>\n",
       "      <td>Machine Learning Engineer</td>\n",
       "      <td>150000</td>\n",
       "      <td>USD</td>\n",
       "      <td>150000</td>\n",
       "      <td>US</td>\n",
       "      <td>50</td>\n",
       "      <td>US</td>\n",
       "      <td>L</td>\n",
       "    </tr>\n",
       "  </tbody>\n",
       "</table>\n",
       "</div>"
      ],
      "text/plain": [
       "   id  work_year experience_level employment_type                   job_title  \\\n",
       "0   0       2020               MI              FT              Data Scientist   \n",
       "1   1       2020               SE              FT  Machine Learning Scientist   \n",
       "2   2       2020               SE              FT           Big Data Engineer   \n",
       "3   3       2020               MI              FT        Product Data Analyst   \n",
       "4   4       2020               SE              FT   Machine Learning Engineer   \n",
       "\n",
       "   salary salary_currency  salary_in_usd employee_residence  remote_ratio  \\\n",
       "0   70000             EUR          79833                 DE             0   \n",
       "1  260000             USD         260000                 JP             0   \n",
       "2   85000             GBP         109024                 GB            50   \n",
       "3   20000             USD          20000                 HN             0   \n",
       "4  150000             USD         150000                 US            50   \n",
       "\n",
       "  company_location company_size  \n",
       "0               DE            L  \n",
       "1               JP            S  \n",
       "2               GB            M  \n",
       "3               HN            S  \n",
       "4               US            L  "
      ]
     },
     "execution_count": 5,
     "metadata": {},
     "output_type": "execute_result"
    }
   ],
   "source": [
    "df_prac.head(5)"
   ]
  },
  {
   "cell_type": "code",
   "execution_count": null,
   "id": "be0149f1",
   "metadata": {},
   "outputs": [],
   "source": []
  },
  {
   "cell_type": "code",
   "execution_count": 63,
   "id": "9a60be62",
   "metadata": {},
   "outputs": [
    {
     "data": {
      "text/plain": [
       "Index(['id', 'work_year', 'experience_level', 'employment_type', 'job_title',\n",
       "       'salary', 'salary_currency', 'salary_in_usd', 'employee_residence',\n",
       "       'remote_ratio', 'company_location', 'company_size'],\n",
       "      dtype='object')"
      ]
     },
     "execution_count": 63,
     "metadata": {},
     "output_type": "execute_result"
    }
   ],
   "source": [
    "df_prac.columns"
   ]
  },
  {
   "cell_type": "code",
   "execution_count": 68,
   "id": "1526da8a",
   "metadata": {},
   "outputs": [
    {
     "data": {
      "text/plain": [
       "work_year\n",
       "2020     95813.000000\n",
       "2021     99853.792627\n",
       "2022    124522.006289\n",
       "Name: salary_in_usd, dtype: float64"
      ]
     },
     "metadata": {},
     "output_type": "display_data"
    }
   ],
   "source": [
    "Q6=df_prac.groupby('work_year')[\"salary_in_usd\"].mean()\n",
    "display(Q6)"
   ]
  },
  {
   "cell_type": "code",
   "execution_count": 70,
   "id": "f6d72c06",
   "metadata": {},
   "outputs": [
    {
     "data": {
      "text/plain": [
       "'Data Scientist'"
      ]
     },
     "metadata": {},
     "output_type": "display_data"
    }
   ],
   "source": [
    "Q7=df_prac['job_title'].mode()[0]\n",
    "display(Q7)"
   ]
  },
  {
   "cell_type": "code",
   "execution_count": 72,
   "id": "259e6a78",
   "metadata": {},
   "outputs": [
    {
     "data": {
      "text/plain": [
       "job_title\n",
       "Data Scientist                              143\n",
       "Data Engineer                               132\n",
       "Data Analyst                                 97\n",
       "Machine Learning Engineer                    41\n",
       "Research Scientist                           16\n",
       "Data Science Manager                         12\n",
       "Data Architect                               11\n",
       "Big Data Engineer                             8\n",
       "Machine Learning Scientist                    8\n",
       "Director of Data Science                      7\n",
       "AI Scientist                                  7\n",
       "Principal Data Scientist                      7\n",
       "Data Science Consultant                       7\n",
       "Data Analytics Manager                        7\n",
       "Computer Vision Engineer                      6\n",
       "BI Data Analyst                               6\n",
       "ML Engineer                                   6\n",
       "Lead Data Engineer                            6\n",
       "Data Engineering Manager                      5\n",
       "Business Data Analyst                         5\n",
       "Applied Data Scientist                        5\n",
       "Head of Data                                  5\n",
       "Head of Data Science                          4\n",
       "Data Analytics Engineer                       4\n",
       "Applied Machine Learning Scientist            4\n",
       "Analytics Engineer                            4\n",
       "Machine Learning Developer                    3\n",
       "Machine Learning Infrastructure Engineer      3\n",
       "Lead Data Scientist                           3\n",
       "Lead Data Analyst                             3\n",
       "Data Science Engineer                         3\n",
       "Principal Data Engineer                       3\n",
       "Computer Vision Software Engineer             3\n",
       "Principal Data Analyst                        2\n",
       "Financial Data Analyst                        2\n",
       "ETL Developer                                 2\n",
       "Director of Data Engineering                  2\n",
       "Product Data Analyst                          2\n",
       "Cloud Data Engineer                           2\n",
       "NLP Engineer                                  1\n",
       "Marketing Data Analyst                        1\n",
       "3D Computer Vision Researcher                 1\n",
       "Machine Learning Manager                      1\n",
       "Lead Machine Learning Engineer                1\n",
       "Head of Machine Learning                      1\n",
       "Finance Data Analyst                          1\n",
       "Data Specialist                               1\n",
       "Data Analytics Lead                           1\n",
       "Big Data Architect                            1\n",
       "Staff Data Scientist                          1\n",
       "Name: job_title, dtype: int64"
      ]
     },
     "metadata": {},
     "output_type": "display_data"
    }
   ],
   "source": [
    "Q7_1=df_prac.groupby('job_title')[\"job_title\"].count().sort_values(ascending = False)\n",
    "display(Q7_1)"
   ]
  },
  {
   "cell_type": "code",
   "execution_count": 73,
   "id": "73d0c6a6",
   "metadata": {},
   "outputs": [
    {
     "data": {
      "text/plain": [
       "Index(['id', 'work_year', 'experience_level', 'employment_type', 'job_title',\n",
       "       'salary', 'salary_currency', 'salary_in_usd', 'employee_residence',\n",
       "       'remote_ratio', 'company_location', 'company_size'],\n",
       "      dtype='object')"
      ]
     },
     "execution_count": 73,
     "metadata": {},
     "output_type": "execute_result"
    }
   ],
   "source": [
    "df_prac.columns"
   ]
  },
  {
   "cell_type": "code",
   "execution_count": 32,
   "id": "26a0e36e",
   "metadata": {},
   "outputs": [
    {
     "data": {
      "text/plain": [
       "company_location\n",
       "US    355\n",
       "GB     47\n",
       "CA     30\n",
       "DE     28\n",
       "IN     24\n",
       "Name: company_location, dtype: int64"
      ]
     },
     "execution_count": 32,
     "metadata": {},
     "output_type": "execute_result"
    }
   ],
   "source": [
    "Q8=df_prac.groupby('company_location')[\"company_location\"].count().sort_values(ascending = False)\n",
    "Q8.head(5)"
   ]
  },
  {
   "cell_type": "code",
   "execution_count": 33,
   "id": "9755537f",
   "metadata": {},
   "outputs": [
    {
     "name": "stdout",
     "output_type": "stream",
     "text": [
      "Country which hire most employee in data Science is ' US ' with total count 355\n"
     ]
    }
   ],
   "source": [
    "Q8_1=df_prac['company_location'].mode()[0]\n",
    "total=Q8[Q8_1]\n",
    "total\n",
    "print(\"Country which hire most employee in data Science is '\",Q8_1,\"' with total count\",total)"
   ]
  },
  {
   "cell_type": "code",
   "execution_count": 8,
   "id": "e5315e51",
   "metadata": {},
   "outputs": [
    {
     "data": {
      "text/plain": [
       "Index(['id', 'work_year', 'experience_level', 'employment_type', 'job_title',\n",
       "       'salary', 'salary_currency', 'salary_in_usd', 'employee_residence',\n",
       "       'remote_ratio', 'company_location', 'company_size'],\n",
       "      dtype='object')"
      ]
     },
     "execution_count": 8,
     "metadata": {},
     "output_type": "execute_result"
    }
   ],
   "source": [
    "df_prac.columns"
   ]
  },
  {
   "cell_type": "code",
   "execution_count": 10,
   "id": "289b3bb7",
   "metadata": {},
   "outputs": [
    {
     "data": {
      "text/plain": [
       "<Axes: >"
      ]
     },
     "execution_count": 10,
     "metadata": {},
     "output_type": "execute_result"
    },
    {
     "data": {
      "image/png": "[encoded data removed]",
      "text/plain": [
       "<Figure size 640x480 with 1 Axes>"
      ]
     },
     "metadata": {},
     "output_type": "display_data"
    }
   ],
   "source": [
    "df_prac[\"salary_in_usd\"].hist()"
   ]
  },
  {
   "cell_type": "code",
   "execution_count": 14,
   "id": "8e55a689",
   "metadata": {},
   "outputs": [
    {
     "data": {
      "text/plain": [
       "<Axes: >"
      ]
     },
     "execution_count": 14,
     "metadata": {},
     "output_type": "execute_result"
    },
    {
     "data": {
      "image/png": "[encoded data removed]",
      "text/plain": [
       "<Figure size 640x480 with 1 Axes>"
      ]
     },
     "metadata": {},
     "output_type": "display_data"
    }
   ],
   "source": [
    "df_prac['salary_in_usd'].hist(grid= False,bins = 5)"
   ]
  },
  {
   "cell_type": "code",
   "execution_count": 42,
   "id": "c1e2951d",
   "metadata": {},
   "outputs": [
    {
     "name": "stderr",
     "output_type": "stream",
     "text": [
      "C:\\Users\\sagar\\AppData\\Local\\Temp\\ipykernel_11868\\2598911077.py:2: UserWarning: \n",
      "\n",
      "`distplot` is a deprecated function and will be removed in seaborn v0.14.0.\n",
      "\n",
      "Please adapt your code to use either `displot` (a figure-level function with\n",
      "similar flexibility) or `histplot` (an axes-level function for histograms).\n",
      "\n",
      "For a guide to updating your code to use the new functions, please see\n",
      "https://gist.github.com/mwaskom/de44147ed2974457ad6372750bbe5751\n",
      "\n",
      "  sns.distplot(df_prac['salary_in_usd'],color='green',kde=True)## kde is  cummulative density\n"
     ]
    },
    {
     "data": {
      "text/plain": [
       "<Axes: xlabel='salary_in_usd', ylabel='Density'>"
      ]
     },
     "execution_count": 42,
     "metadata": {},
     "output_type": "execute_result"
    },
    {
     "data": {
      "image/png": "[encoded data removed]",
      "text/plain": [
       "<Figure size 640x480 with 1 Axes>"
      ]
     },
     "metadata": {},
     "output_type": "display_data"
    }
   ],
   "source": [
    "##Distribution plot with Skewness and kurtosis\n",
    "sns.distplot(df_prac['salary_in_usd'],color='green',kde=True)## kde is  cummulative density"
   ]
  },
  {
   "cell_type": "code",
   "execution_count": 50,
   "id": "475ee063",
   "metadata": {},
   "outputs": [
    {
     "data": {
      "image/png": "[encoded data removed]",
      "text/plain": [
       "<Figure size 640x480 with 1 Axes>"
      ]
     },
     "metadata": {},
     "output_type": "display_data"
    }
   ],
   "source": [
    "sns.kdeplot(data=df_prac, x='salary_in_usd')\n",
    "sns.rugplot(data=df_prac, x='salary_in_usd')\n",
    "plt.xlabel('Salary(in USD)')\n",
    "plt.ylabel('Density')\n",
    "plt.title('Salary Distribution ')\n",
    "plt.show()"
   ]
  },
  {
   "cell_type": "code",
   "execution_count": 31,
   "id": "1569c041",
   "metadata": {},
   "outputs": [
    {
     "data": {
      "text/plain": [
       "Index(['id', 'work_year', 'experience_level', 'employment_type', 'job_title',\n",
       "       'salary', 'salary_currency', 'salary_in_usd', 'employee_residence',\n",
       "       'remote_ratio', 'company_location', 'company_size'],\n",
       "      dtype='object')"
      ]
     },
     "execution_count": 31,
     "metadata": {},
     "output_type": "execute_result"
    }
   ],
   "source": [
    "df_prac.columns"
   ]
  },
  {
   "cell_type": "code",
   "execution_count": 38,
   "id": "b6c87b4c",
   "metadata": {},
   "outputs": [
    {
     "data": {
      "text/plain": [
       "<Axes: xlabel='experience_level', ylabel='salary_in_usd'>"
      ]
     },
     "execution_count": 38,
     "metadata": {},
     "output_type": "execute_result"
    },
    {
     "data": {
      "image/png": "[encoded data removed]",
      "text/plain": [
       "<Figure size 800x1500 with 1 Axes>"
      ]
     },
     "metadata": {},
     "output_type": "display_data"
    }
   ],
   "source": [
    "sns.lineplot(data=df_prac, x=\"experience_level\", y=\"salary_in_usd\")"
   ]
  },
  {
   "cell_type": "code",
   "execution_count": 59,
   "id": "8e50f589",
   "metadata": {},
   "outputs": [
    {
     "data": {
      "image/png": "[encoded data removed]",
      "text/plain": [
       "<Figure size 640x480 with 1 Axes>"
      ]
     },
     "metadata": {},
     "output_type": "display_data"
    }
   ],
   "source": [
    "sns.violinplot(data=df_prac, x=\"experience_level\", y=\"salary_in_usd\")\n",
    "plt.xlabel(\"Years of Experience\")\n",
    "plt.ylabel(\"Salary (in USD)\")\n",
    "plt.title(\"Salary Based on Years of Experience\")\n",
    "plt.show()"
   ]
  },
  {
   "cell_type": "code",
   "execution_count": 65,
   "id": "9fc48cc2",
   "metadata": {},
   "outputs": [
    {
     "name": "stdout",
     "output_type": "stream",
     "text": [
      "experience_level    4\n",
      "dtype: int64\n"
     ]
    },
    {
     "data": {
      "text/plain": [
       "array(['MI', 'SE', 'EN', 'EX'], dtype=object)"
      ]
     },
     "execution_count": 65,
     "metadata": {},
     "output_type": "execute_result"
    }
   ],
   "source": [
    "print(df_prac[['experience_level']].nunique())\n",
    "df_prac.experience_level.unique()"
   ]
  },
  {
   "cell_type": "code",
   "execution_count": 7,
   "id": "d060e77c",
   "metadata": {},
   "outputs": [
    {
     "data": {
      "text/plain": [
       "Index(['id', 'work_year', 'experience_level', 'employment_type', 'job_title',\n",
       "       'salary', 'salary_currency', 'salary_in_usd', 'employee_residence',\n",
       "       'remote_ratio', 'company_location', 'company_size'],\n",
       "      dtype='object')"
      ]
     },
     "execution_count": 7,
     "metadata": {},
     "output_type": "execute_result"
    }
   ],
   "source": [
    "df_prac.columns"
   ]
  },
  {
   "cell_type": "code",
   "execution_count": 66,
   "id": "0016a5fd",
   "metadata": {},
   "outputs": [
    {
     "data": {
      "image/png": "[encoded data removed]",
      "text/plain": [
       "<Figure size 640x480 with 1 Axes>"
      ]
     },
     "metadata": {},
     "output_type": "display_data"
    }
   ],
   "source": [
    "sns.countplot(x ='work_year', hue = \"remote_ratio\", data = df_prac)\n",
    "plt.xlabel(\"Work Year\")\n",
    "plt.ylabel(\"Count\")\n",
    "plt.legend(title=\"Remote Ratio\")\n",
    "plt.title(\"Remote Ratio Based on Work Year\")\n",
    "plt.show()"
   ]
  },
  {
   "cell_type": "code",
   "execution_count": 25,
   "id": "d2f803ff",
   "metadata": {},
   "outputs": [
    {
     "data": {
      "text/html": [
       "<div>\n",
       "<style scoped>\n",
       "    .dataframe tbody tr th:only-of-type {\n",
       "        vertical-align: middle;\n",
       "    }\n",
       "\n",
       "    .dataframe tbody tr th {\n",
       "        vertical-align: top;\n",
       "    }\n",
       "\n",
       "    .dataframe thead th {\n",
       "        text-align: right;\n",
       "    }\n",
       "</style>\n",
       "<table border=\"1\" class=\"dataframe\">\n",
       "  <thead>\n",
       "    <tr style=\"text-align: right;\">\n",
       "      <th></th>\n",
       "      <th>id</th>\n",
       "      <th>work_year</th>\n",
       "      <th>experience_level</th>\n",
       "      <th>employment_type</th>\n",
       "      <th>job_title</th>\n",
       "      <th>salary</th>\n",
       "      <th>salary_currency</th>\n",
       "      <th>salary_in_usd</th>\n",
       "      <th>employee_residence</th>\n",
       "      <th>remote_ratio</th>\n",
       "      <th>company_location</th>\n",
       "      <th>company_size</th>\n",
       "    </tr>\n",
       "  </thead>\n",
       "  <tbody>\n",
       "    <tr>\n",
       "      <th>252</th>\n",
       "      <td>252</td>\n",
       "      <td>2021</td>\n",
       "      <td>EX</td>\n",
       "      <td>FT</td>\n",
       "      <td>Principal Data Engineer</td>\n",
       "      <td>600000</td>\n",
       "      <td>USD</td>\n",
       "      <td>600000</td>\n",
       "      <td>US</td>\n",
       "      <td>100</td>\n",
       "      <td>US</td>\n",
       "      <td>L</td>\n",
       "    </tr>\n",
       "    <tr>\n",
       "      <th>97</th>\n",
       "      <td>97</td>\n",
       "      <td>2021</td>\n",
       "      <td>MI</td>\n",
       "      <td>FT</td>\n",
       "      <td>Financial Data Analyst</td>\n",
       "      <td>450000</td>\n",
       "      <td>USD</td>\n",
       "      <td>450000</td>\n",
       "      <td>US</td>\n",
       "      <td>100</td>\n",
       "      <td>US</td>\n",
       "      <td>L</td>\n",
       "    </tr>\n",
       "    <tr>\n",
       "      <th>33</th>\n",
       "      <td>33</td>\n",
       "      <td>2020</td>\n",
       "      <td>MI</td>\n",
       "      <td>FT</td>\n",
       "      <td>Research Scientist</td>\n",
       "      <td>450000</td>\n",
       "      <td>USD</td>\n",
       "      <td>450000</td>\n",
       "      <td>US</td>\n",
       "      <td>0</td>\n",
       "      <td>US</td>\n",
       "      <td>M</td>\n",
       "    </tr>\n",
       "    <tr>\n",
       "      <th>157</th>\n",
       "      <td>157</td>\n",
       "      <td>2021</td>\n",
       "      <td>MI</td>\n",
       "      <td>FT</td>\n",
       "      <td>Applied Machine Learning Scientist</td>\n",
       "      <td>423000</td>\n",
       "      <td>USD</td>\n",
       "      <td>423000</td>\n",
       "      <td>US</td>\n",
       "      <td>50</td>\n",
       "      <td>US</td>\n",
       "      <td>L</td>\n",
       "    </tr>\n",
       "    <tr>\n",
       "      <th>225</th>\n",
       "      <td>225</td>\n",
       "      <td>2021</td>\n",
       "      <td>EX</td>\n",
       "      <td>CT</td>\n",
       "      <td>Principal Data Scientist</td>\n",
       "      <td>416000</td>\n",
       "      <td>USD</td>\n",
       "      <td>416000</td>\n",
       "      <td>US</td>\n",
       "      <td>100</td>\n",
       "      <td>US</td>\n",
       "      <td>S</td>\n",
       "    </tr>\n",
       "  </tbody>\n",
       "</table>\n",
       "</div>"
      ],
      "text/plain": [
       "      id  work_year experience_level employment_type  \\\n",
       "252  252       2021               EX              FT   \n",
       "97    97       2021               MI              FT   \n",
       "33    33       2020               MI              FT   \n",
       "157  157       2021               MI              FT   \n",
       "225  225       2021               EX              CT   \n",
       "\n",
       "                              job_title  salary salary_currency  \\\n",
       "252             Principal Data Engineer  600000             USD   \n",
       "97               Financial Data Analyst  450000             USD   \n",
       "33                   Research Scientist  450000             USD   \n",
       "157  Applied Machine Learning Scientist  423000             USD   \n",
       "225            Principal Data Scientist  416000             USD   \n",
       "\n",
       "     salary_in_usd employee_residence  remote_ratio company_location  \\\n",
       "252         600000                 US           100               US   \n",
       "97          450000                 US           100               US   \n",
       "33          450000                 US             0               US   \n",
       "157         423000                 US            50               US   \n",
       "225         416000                 US           100               US   \n",
       "\n",
       "    company_size  \n",
       "252            L  \n",
       "97             L  \n",
       "33             M  \n",
       "157            L  \n",
       "225            S  "
      ]
     },
     "execution_count": 25,
     "metadata": {},
     "output_type": "execute_result"
    }
   ],
   "source": [
    "df_new.head(5)"
   ]
  },
  {
   "cell_type": "code",
   "execution_count": 28,
   "id": "34465707",
   "metadata": {},
   "outputs": [
    {
     "name": "stdout",
     "output_type": "stream",
     "text": [
      "The Country with Highest Pay is US\n"
     ]
    }
   ],
   "source": [
    "Q12 = df_new.iloc[0]['company_location']\n",
    "print(\"The Country with Highest Pay is\",Q12)"
   ]
  },
  {
   "cell_type": "code",
   "execution_count": 29,
   "id": "81b3022c",
   "metadata": {},
   "outputs": [
    {
     "name": "stdout",
     "output_type": "stream",
     "text": [
      "Job with Highest Pay is Principal Data Engineer\n"
     ]
    }
   ],
   "source": [
    "Q12 = df_new.iloc[0]['job_title']\n",
    "print(\"Job with Highest Pay is\",Q12)"
   ]
  },
  {
   "cell_type": "code",
   "execution_count": 31,
   "id": "c0b5b32c",
   "metadata": {},
   "outputs": [
    {
     "name": "stdout",
     "output_type": "stream",
     "text": [
      "     salary_in_usd                   job_title\n",
      "488         100000              Data Scientist\n",
      "54           60000    Computer Vision Engineer\n",
      "208          20000               Data Engineer\n",
      "184          12000  Machine Learning Scientist\n"
     ]
    }
   ],
   "source": [
    "Q14=df_new.loc[df_new['employment_type']== 'FL' ,['salary_in_usd','job_title']]\n",
    "print(Q14)"
   ]
  },
  {
   "cell_type": "code",
   "execution_count": 36,
   "id": "584d4eaa",
   "metadata": {},
   "outputs": [],
   "source": [
    "#Q14=df_new.loc[df_new['employment_type']== 'FL' ,['salary_in_usd'].mean()]\n",
    "#print(Q14)"
   ]
  },
  {
   "cell_type": "code",
   "execution_count": 52,
   "id": "b654e8ed",
   "metadata": {},
   "outputs": [
    {
     "name": "stdout",
     "output_type": "stream",
     "text": [
      "Mean of FL : 48000.0 Median: 40000.0\n",
      "Mean of FT : 113468.0731292517 Median: 104196.5\n",
      "Mean of PT : 33070.5 Median: 18817.5\n",
      "Mean of CT : 184575.0 Median: 105000.0\n"
     ]
    }
   ],
   "source": [
    "Q14_FL= df_new.query(\"employment_type == 'FL'\")['salary_in_usd'].mean()\n",
    "print(\"Mean of FL :\",Q14_FL,end=\" \")\n",
    "Q14_FL= df_new.query(\"employment_type == 'FL'\")['salary_in_usd'].median()\n",
    "print(\"Median:\",Q14_FL)\n",
    "\n",
    "Q14_FT= df_new.query(\"employment_type == 'FT'\")['salary_in_usd'].mean()\n",
    "print(\"Mean of FT :\",Q14_FT,end=\" \")\n",
    "Q14_FT= df_new.query(\"employment_type == 'FT'\")['salary_in_usd'].median()\n",
    "print(\"Median:\",Q14_FT)\n",
    "\n",
    "Q14_PT= df_new.query(\"employment_type == 'PT'\")['salary_in_usd'].mean()\n",
    "print(\"Mean of PT :\",Q14_PT,end=\" \")\n",
    "Q14_PT= df_new.query(\"employment_type == 'PT'\")['salary_in_usd'].median()\n",
    "print(\"Median:\",Q14_PT)\n",
    "\n",
    "Q14_CT= df_new.query(\"employment_type == 'CT'\")['salary_in_usd'].mean()\n",
    "print(\"Mean of CT :\",Q14_CT,end=\" \")\n",
    "Q14_CT= df_new.query(\"employment_type == 'CT'\")['salary_in_usd'].median()\n",
    "print(\"Median:\",Q14_CT)\n"
   ]
  },
  {
   "cell_type": "code",
   "execution_count": 39,
   "id": "2019ae1b",
   "metadata": {},
   "outputs": [],
   "source": [
    "df_Q14 = df"
   ]
  },
  {
   "cell_type": "code",
   "execution_count": 9,
   "id": "8be8754a",
   "metadata": {},
   "outputs": [
    {
     "data": {
      "text/html": [
       "<div>\n",
       "<style scoped>\n",
       "    .dataframe tbody tr th:only-of-type {\n",
       "        vertical-align: middle;\n",
       "    }\n",
       "\n",
       "    .dataframe tbody tr th {\n",
       "        vertical-align: top;\n",
       "    }\n",
       "\n",
       "    .dataframe thead th {\n",
       "        text-align: right;\n",
       "    }\n",
       "</style>\n",
       "<table border=\"1\" class=\"dataframe\">\n",
       "  <thead>\n",
       "    <tr style=\"text-align: right;\">\n",
       "      <th></th>\n",
       "      <th>id</th>\n",
       "      <th>work_year</th>\n",
       "      <th>experience_level</th>\n",
       "      <th>employment_type</th>\n",
       "      <th>job_title</th>\n",
       "      <th>salary</th>\n",
       "      <th>salary_currency</th>\n",
       "      <th>salary_in_usd</th>\n",
       "      <th>employee_residence</th>\n",
       "      <th>remote_ratio</th>\n",
       "      <th>company_location</th>\n",
       "      <th>company_size</th>\n",
       "    </tr>\n",
       "  </thead>\n",
       "  <tbody>\n",
       "    <tr>\n",
       "      <th>0</th>\n",
       "      <td>0</td>\n",
       "      <td>2020</td>\n",
       "      <td>MI</td>\n",
       "      <td>FT</td>\n",
       "      <td>Data Scientist</td>\n",
       "      <td>70000</td>\n",
       "      <td>EUR</td>\n",
       "      <td>79833</td>\n",
       "      <td>DE</td>\n",
       "      <td>0</td>\n",
       "      <td>DE</td>\n",
       "      <td>L</td>\n",
       "    </tr>\n",
       "    <tr>\n",
       "      <th>1</th>\n",
       "      <td>1</td>\n",
       "      <td>2020</td>\n",
       "      <td>SE</td>\n",
       "      <td>FT</td>\n",
       "      <td>Machine Learning Scientist</td>\n",
       "      <td>260000</td>\n",
       "      <td>USD</td>\n",
       "      <td>260000</td>\n",
       "      <td>JP</td>\n",
       "      <td>0</td>\n",
       "      <td>JP</td>\n",
       "      <td>S</td>\n",
       "    </tr>\n",
       "    <tr>\n",
       "      <th>2</th>\n",
       "      <td>2</td>\n",
       "      <td>2020</td>\n",
       "      <td>SE</td>\n",
       "      <td>FT</td>\n",
       "      <td>Big Data Engineer</td>\n",
       "      <td>85000</td>\n",
       "      <td>GBP</td>\n",
       "      <td>109024</td>\n",
       "      <td>GB</td>\n",
       "      <td>50</td>\n",
       "      <td>GB</td>\n",
       "      <td>M</td>\n",
       "    </tr>\n",
       "    <tr>\n",
       "      <th>3</th>\n",
       "      <td>3</td>\n",
       "      <td>2020</td>\n",
       "      <td>MI</td>\n",
       "      <td>FT</td>\n",
       "      <td>Product Data Analyst</td>\n",
       "      <td>20000</td>\n",
       "      <td>USD</td>\n",
       "      <td>20000</td>\n",
       "      <td>HN</td>\n",
       "      <td>0</td>\n",
       "      <td>HN</td>\n",
       "      <td>S</td>\n",
       "    </tr>\n",
       "    <tr>\n",
       "      <th>4</th>\n",
       "      <td>4</td>\n",
       "      <td>2020</td>\n",
       "      <td>SE</td>\n",
       "      <td>FT</td>\n",
       "      <td>Machine Learning Engineer</td>\n",
       "      <td>150000</td>\n",
       "      <td>USD</td>\n",
       "      <td>150000</td>\n",
       "      <td>US</td>\n",
       "      <td>50</td>\n",
       "      <td>US</td>\n",
       "      <td>L</td>\n",
       "    </tr>\n",
       "  </tbody>\n",
       "</table>\n",
       "</div>"
      ],
      "text/plain": [
       "   id  work_year experience_level employment_type                   job_title  \\\n",
       "0   0       2020               MI              FT              Data Scientist   \n",
       "1   1       2020               SE              FT  Machine Learning Scientist   \n",
       "2   2       2020               SE              FT           Big Data Engineer   \n",
       "3   3       2020               MI              FT        Product Data Analyst   \n",
       "4   4       2020               SE              FT   Machine Learning Engineer   \n",
       "\n",
       "   salary salary_currency  salary_in_usd employee_residence  remote_ratio  \\\n",
       "0   70000             EUR          79833                 DE             0   \n",
       "1  260000             USD         260000                 JP             0   \n",
       "2   85000             GBP         109024                 GB            50   \n",
       "3   20000             USD          20000                 HN             0   \n",
       "4  150000             USD         150000                 US            50   \n",
       "\n",
       "  company_location company_size  \n",
       "0               DE            L  \n",
       "1               JP            S  \n",
       "2               GB            M  \n",
       "3               HN            S  \n",
       "4               US            L  "
      ]
     },
     "execution_count": 9,
     "metadata": {},
     "output_type": "execute_result"
    }
   ],
   "source": [
    "df_Q14.head(5)"
   ]
  },
  {
   "cell_type": "code",
   "execution_count": 8,
   "id": "929e14e3",
   "metadata": {},
   "outputs": [
    {
     "data": {
      "text/plain": [
       "Index(['id', 'work_year', 'experience_level', 'employment_type', 'job_title',\n",
       "       'salary', 'salary_currency', 'salary_in_usd', 'employee_residence',\n",
       "       'remote_ratio', 'company_location', 'company_size'],\n",
       "      dtype='object')"
      ]
     },
     "execution_count": 8,
     "metadata": {},
     "output_type": "execute_result"
    }
   ],
   "source": [
    "df_Q14.columns"
   ]
  },
  {
   "cell_type": "code",
   "execution_count": 10,
   "id": "4ebd2871",
   "metadata": {},
   "outputs": [
    {
     "name": "stdout",
     "output_type": "stream",
     "text": [
      "Mean Salary of FL (Computer Vision Engineer): 60000.0\n",
      "Mean Salary of FT (Computer Vision Engineer): 44476.75\n",
      "Mean Salary of PT (Computer Vision Engineer): 28609.0\n",
      "Mean Salary of CT (Computer Vision Engineer): nan\n",
      "Maximum Avg Salary is  60000.0\n",
      "FL>FT>PT\n"
     ]
    }
   ],
   "source": [
    "Q14_FL= df_Q14.query(\"employment_type == 'FL' & job_title == 'Computer Vision Engineer'\")['salary_in_usd'].mean()\n",
    "print(\"Mean Salary of FL (Computer Vision Engineer):\",Q14_FL)\n",
    "Q14_FT= df_Q14.query(\"employment_type == 'FT' & job_title == 'Computer Vision Engineer'\")['salary_in_usd'].mean()\n",
    "print(\"Mean Salary of FT (Computer Vision Engineer):\",Q14_FT)\n",
    "Q14_PT= df_Q14.query(\"employment_type == 'PT' & job_title == 'Computer Vision Engineer'\")['salary_in_usd'].mean()\n",
    "print(\"Mean Salary of PT (Computer Vision Engineer):\",Q14_PT)\n",
    "Q14_CT= df_Q14.query(\"employment_type == 'CT' & job_title == 'Computer Vision Engineer'\")['salary_in_usd'].mean()\n",
    "print(\"Mean Salary of CT (Computer Vision Engineer):\",Q14_CT)\n",
    "Q14_max=max(Q14_FL,Q14_FT,Q14_PT,Q14_CT)\n",
    "print(\"Maximum Avg Salary is \",Q14_max)\n",
    "print(\"FL>FT>PT\")"
   ]
  },
  {
   "cell_type": "code",
   "execution_count": 11,
   "id": "bb0b0984",
   "metadata": {},
   "outputs": [
    {
     "name": "stdout",
     "output_type": "stream",
     "text": [
      "Mean Salary of FL (Data Engineer): 20000.0\n",
      "Mean Salary of FT (Data Engineer): 114224.82170542635\n",
      "Mean Salary of PT (Data Engineer): 62349.0\n",
      "Mean Salary of CT (Data Engineer): nan\n",
      "Maximum Avg Salary is  114224.82170542635\n",
      "FT>PT>Fl\n"
     ]
    }
   ],
   "source": [
    "Q14_FL= df_Q14.query(\"employment_type == 'FL' & job_title == 'Data Engineer'\")['salary_in_usd'].mean()\n",
    "print(\"Mean Salary of FL (Data Engineer):\",Q14_FL)\n",
    "Q14_FT= df_Q14.query(\"employment_type == 'FT' & job_title == 'Data Engineer'\")['salary_in_usd'].mean()\n",
    "print(\"Mean Salary of FT (Data Engineer):\",Q14_FT)\n",
    "Q14_PT= df_Q14.query(\"employment_type == 'PT' & job_title == 'Data Engineer'\")['salary_in_usd'].mean()\n",
    "print(\"Mean Salary of PT (Data Engineer):\",Q14_PT)\n",
    "Q14_CT= df_Q14.query(\"employment_type == 'CT' & job_title == 'Data Engineer'\")['salary_in_usd'].mean()\n",
    "print(\"Mean Salary of CT (Data Engineer):\",Q14_CT)\n",
    "Q14_max=max(Q14_FL,Q14_FT,Q14_PT,Q14_CT)\n",
    "print(\"Maximum Avg Salary is \",Q14_max)\n",
    "print(\"FT>PT>Fl\")"
   ]
  },
  {
   "cell_type": "code",
   "execution_count": 12,
   "id": "ccd2c1d0",
   "metadata": {},
   "outputs": [
    {
     "name": "stdout",
     "output_type": "stream",
     "text": [
      "Mean Salary of FL (Data Scientist): 100000.0\n",
      "Mean Salary of FT (Data Scientist): 108922.79285714286\n",
      "Mean Salary of PT (Data Scientist): 60834.5\n",
      "Mean Salary of CT (Data Scientist): nan\n",
      "Maximum Avg Salary is  108922.79285714286\n",
      "FT>FL>PT\n"
     ]
    }
   ],
   "source": [
    "Q14_FL= df_Q14.query(\"employment_type == 'FL' & job_title == 'Data Scientist'\")['salary_in_usd'].mean()\n",
    "print(\"Mean Salary of FL (Data Scientist):\",Q14_FL)\n",
    "Q14_FT= df_Q14.query(\"employment_type == 'FT' & job_title == 'Data Scientist'\")['salary_in_usd'].mean()\n",
    "print(\"Mean Salary of FT (Data Scientist):\",Q14_FT)\n",
    "Q14_PT= df_Q14.query(\"employment_type == 'PT' & job_title == 'Data Scientist'\")['salary_in_usd'].mean()\n",
    "print(\"Mean Salary of PT (Data Scientist):\",Q14_PT)\n",
    "Q14_CT= df_Q14.query(\"employment_type == 'CT' & job_title == 'Data Scientist'\")['salary_in_usd'].mean()\n",
    "print(\"Mean Salary of CT (Data Scientist):\",Q14_CT)\n",
    "Q14_max=max(Q14_FL,Q14_FT,Q14_PT,Q14_CT)\n",
    "print(\"Maximum Avg Salary is \",Q14_max)\n",
    "print(\"FT>FL>PT\")"
   ]
  },
  {
   "cell_type": "code",
   "execution_count": 40,
   "id": "6c948260",
   "metadata": {},
   "outputs": [
    {
     "name": "stdout",
     "output_type": "stream",
     "text": [
      "Mean Salary of FL (Machine Learning Scientist): 12000.0\n",
      "Mean Salary of FT (Machine Learning Scientist): 179328.57142857142\n",
      "Mean Salary of PT (Machine Learning Scientist): nan\n",
      "Mean Salary of CT (Machine Learning Scientist): nan\n",
      "Maximum Avg Salary is  179328.57142857142\n",
      "FT>FL\n"
     ]
    }
   ],
   "source": [
    "Q14_FL= df_Q14.query(\"employment_type == 'FL' & job_title == 'Machine Learning Scientist'\")['salary_in_usd'].mean()\n",
    "print(\"Mean Salary of FL (Machine Learning Scientist):\",Q14_FL)\n",
    "Q14_FT= df_Q14.query(\"employment_type == 'FT' & job_title == 'Machine Learning Scientist'\")['salary_in_usd'].mean()\n",
    "print(\"Mean Salary of FT (Machine Learning Scientist):\",Q14_FT)\n",
    "Q14_PT= df_Q14.query(\"employment_type == 'PT' & job_title == 'Machine Learning Scientist'\")['salary_in_usd'].mean()\n",
    "print(\"Mean Salary of PT (Machine Learning Scientist):\",Q14_PT)\n",
    "Q14_CT= df_Q14.query(\"employment_type == 'CT' & job_title == 'Machine Learning Scientist'\")['salary_in_usd'].mean()\n",
    "print(\"Mean Salary of CT (Machine Learning Scientist):\",Q14_CT)\n",
    "Q14_max=max(Q14_FL,Q14_FT,Q14_PT,Q14_CT)\n",
    "print(\"Maximum Avg Salary is \",Q14_max)\n",
    "print(\"FT>FL\")"
   ]
  },
  {
   "cell_type": "code",
   "execution_count": 71,
   "id": "56fd20dc",
   "metadata": {},
   "outputs": [
    {
     "name": "stdout",
     "output_type": "stream",
     "text": [
      "employment_type    4\n",
      "dtype: int64\n"
     ]
    },
    {
     "data": {
      "text/plain": [
       "array(['FT', 'CT', 'PT', 'FL'], dtype=object)"
      ]
     },
     "execution_count": 71,
     "metadata": {},
     "output_type": "execute_result"
    }
   ],
   "source": [
    "print(df_prac[['employment_type']].nunique())\n",
    "df_prac.employment_type.unique()"
   ]
  },
  {
   "cell_type": "code",
   "execution_count": 77,
   "id": "927de0e0",
   "metadata": {},
   "outputs": [
    {
     "data": {
      "text/plain": [
       "employment_type\n",
       "CT    105000.0\n",
       "FL     40000.0\n",
       "FT    104196.5\n",
       "PT     18817.5\n",
       "Name: salary_in_usd, dtype: float64"
      ]
     },
     "execution_count": 77,
     "metadata": {},
     "output_type": "execute_result"
    }
   ],
   "source": [
    "df_Q14.groupby('employment_type').median()[\"salary_in_usd\"]"
   ]
  },
  {
   "cell_type": "code",
   "execution_count": 75,
   "id": "5d5f6380",
   "metadata": {},
   "outputs": [
    {
     "data": {
      "image/png": "[encoded data removed]",
      "text/plain": [
       "<Figure size 640x480 with 1 Axes>"
      ]
     },
     "metadata": {},
     "output_type": "display_data"
    }
   ],
   "source": [
    "sns.violinplot(x=df_Q14['employment_type'],y=df_Q14[ 'salary_in_usd'])\n",
    "plt.xlabel(\"Employment Type\")\n",
    "plt.ylabel(\"Salary (in USD)\")\n",
    "plt.title(\"Salary Based on Employment Type\")\n",
    "plt.show()"
   ]
  },
  {
   "cell_type": "markdown",
   "id": "94e5a0cf",
   "metadata": {},
   "source": [
    "FT: Full-Time,\n",
    "CT: Contract,\n",
    "PT: Part-Time,\n",
    "FL: Freelance"
   ]
  },
  {
   "cell_type": "code",
   "execution_count": null,
   "id": "764894cd",
   "metadata": {},
   "outputs": [],
   "source": []
  }
 ],
 "metadata": {
  "kernelspec": {
   "display_name": "Python 3 (ipykernel)",
   "language": "python",
   "name": "python3"
  },
  "language_info": {
   "codemirror_mode": {
    "name": "ipython",
    "version": 3
   },
   "file_extension": ".py",
   "mimetype": "text/x-python",
   "name": "python",
   "nbconvert_exporter": "python",
   "pygments_lexer": "ipython3",
   "version": "3.10.10"
  }
 },
 "nbformat": 4,
 "nbformat_minor": 5
}
